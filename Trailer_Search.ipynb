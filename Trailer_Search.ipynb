{
 "cells": [
  {
   "cell_type": "code",
   "execution_count": 11,
   "metadata": {},
   "outputs": [],
   "source": [
    "import spotipy\n",
    "from spotipy.oauth2 import SpotifyClientCredentials\n",
    "from spotipy.oauth2 import SpotifyOAuth\n",
    "import urllib\n",
    "from dotenv import load_dotenv\n",
    "import pandas as pd\n",
    "from pprint import pprint\n",
    "import requests\n",
    "import os \n",
    "import base64\n",
    "import json\n",
    "from bs4 import BeautifulSoup"
   ]
  },
  {
   "cell_type": "code",
   "execution_count": 3,
   "metadata": {},
   "outputs": [],
   "source": [
    "load_dotenv()\n",
    "\n",
    "SpotifyClientID = os.getenv(\"SPOTIPY_CLIENT_ID\")\n",
    "SpotifyClientSecret = os.getenv(\"SPOTIPY_CLIENT_SECRET\")\n",
    "SpotifyRedirectURI = os.getenv(\"SPOTIPY_REDIRECT_URI\")\n",
    "SpotifyOath = os.getenv(\"SpotifyOath\")\n",
    "\n",
    "def _make_authorization_headers(client_id, client_secret):\n",
    "    auth_header = base64.b64encode(\n",
    "        f\"{client_id}:{client_secret}\".encode(\"ascii\")\n",
    "    )\n",
    "    return {\"Authorization\": \"Basic %s\" % auth_header.decode(\"ascii\")}\n",
    "\n",
    "baseauth = _make_authorization_headers(SpotifyClientID, SpotifyClientSecret)\n",
    "\n",
    "tok = requests.post(r\"https://accounts.spotify.com/api/token\", \n",
    "                   data={\"grant_type\": \"client_credentials\"},\n",
    "                   headers=baseauth)\n",
    "btok = json.loads(tok.content)['access_token']\n",
    "bear = {\"Authorization\": f\"Bearer {btok}\"}"
   ]
  },
  {
   "cell_type": "code",
   "execution_count": null,
   "metadata": {},
   "outputs": [],
   "source": [
    "search_str = 'Avatar Soundtrack'\n",
    "options = 'album,playlist'\n",
    "q = urllib.parse.quote(search_str)\n",
    "o = urllib.parse.quote(options)\n",
    "getme = f\"https://api.spotify.com/v1/search?query={q}\" \\\n",
    "    + f\"&type={o}&market=US&offset=0&limit=10\"\n",
    "getme"
   ]
  },
  {
   "cell_type": "code",
   "execution_count": null,
   "metadata": {},
   "outputs": [],
   "source": [
    "output = requests.get(getme, headers=bear)\n",
    "jl = json.loads(output.content)\n",
    "#alb = jl['albums']['items']\n",
    "ply = jl['playlists']['items']\n",
    "df = pd.json_normalize(alb).append(pd.json_normalize(ply))\n",
    "df"
   ]
  },
  {
   "cell_type": "code",
   "execution_count": null,
   "metadata": {},
   "outputs": [],
   "source": [
    "df.to_csv(\"check_avatar.csv\", index=False)"
   ]
  },
  {
   "cell_type": "code",
   "execution_count": null,
   "metadata": {},
   "outputs": [],
   "source": []
  },
  {
   "cell_type": "code",
   "execution_count": null,
   "metadata": {},
   "outputs": [],
   "source": [
    "file = pd.read_csv(\"1990_2020_movie_list1227.csv\", encoding='latin1')\n",
    "titles = file.title.tolist()\n",
    "movids = file.movieid.tolist()\n",
    "\n",
    "searchbase = r\"https://www.traileraddict.com/search/\"\n",
    "#IFERROR(VLOOKUP($G3, [trailer_search_testing.xlsx]trailer_search!$C$2:$R$206, COLUMN()-2,0), \"\")\n",
    "#=VLOOKUP(B3780,trailer_search.csv!$G$1:$O$29, COLUMN()-5, 0)\n",
    "res_list = []\n",
    "\n",
    "for i,search_str in enumerate(titles):\n",
    "    q = urllib.parse.quote(search_str).lower()\n",
    "    url = searchbase + q\n",
    "    #print(url)\n",
    "    page = requests.get(url).text\n",
    "\n",
    "    soup = BeautifulSoup(page, \"html.parser\")\n",
    "    res = soup.find_all('div' , class_=\"info\")\n",
    "\n",
    "    for l in res:\n",
    "        d = {'ttid': movids[i],\n",
    "            'search': search_str,\n",
    "             'href': l.find_previous_sibling()['href']}\n",
    "        for ch in l.find_all('div',recursive=False):\n",
    "            for cc in ch:\n",
    "                if len(str(cc))>1:\n",
    "                    ss = list(cc.stripped_strings)\n",
    "                    if 'class' in cc.attrs.keys():\n",
    "                        d[list(cc['class'])[0]] = ss[-1]\n",
    "                    else:\n",
    "                        d[ss[0]] = ss[-1]\n",
    "        res_list.append(d)\n",
    "print(\"we did it!\")"
   ]
  },
  {
   "cell_type": "code",
   "execution_count": null,
   "metadata": {},
   "outputs": [],
   "source": [
    "trail_df = pd.DataFrame(res_list)\n",
    "trail_df.head()"
   ]
  },
  {
   "cell_type": "code",
   "execution_count": null,
   "metadata": {},
   "outputs": [],
   "source": [
    "trail_df.shape"
   ]
  },
  {
   "cell_type": "code",
   "execution_count": null,
   "metadata": {},
   "outputs": [],
   "source": [
    "# trail_df.to_csv(\"trailer_search.csv\")"
   ]
  },
  {
   "cell_type": "code",
   "execution_count": null,
   "metadata": {},
   "outputs": [],
   "source": [
    "import re \n",
    "\n",
    "trailers = pd.read_csv(\"1990_2020_movie_list_with_trailers.csv\", encoding='latin1')\n",
    "hrefs = trailers.href.tolist()\n",
    "\n",
    "baseurl = r\"https://www.traileraddict.com\"\n",
    "\n",
    "trailist = []\n",
    "print(len(hrefs))\n",
    "for i, h in enumerate(hrefs):\n",
    "    print(i,h)\n",
    "#h = r\"/star-trek-into-darkness\"\n",
    "    page = requests.get(baseurl + h).text\n",
    "    soup = BeautifulSoup(page, \"html.parser\")\n",
    "\n",
    "    res = soup.find_all('div' , class_=\"featured_box\") #, text=re.compile(\"(.*Trailer.*)\"))\n",
    "    for i,r in enumerate(res):\n",
    "        if \"Trailer\" in r.text:\n",
    "            me = {'href': h, 'enum': i}\n",
    "            me['date'] = r.div.span.text\n",
    "            me['link'] = r.div.a['href']\n",
    "            me['title'] = r.div.a.text.strip()\n",
    "            trailist.append(me)"
   ]
  },
  {
   "cell_type": "code",
   "execution_count": null,
   "metadata": {},
   "outputs": [],
   "source": [
    "df_trail = pd.DataFrame(trailist)\n",
    "df_trail.shape\n",
    "df_trail.to_csv(\"trailer_links.csv\")"
   ]
  },
  {
   "cell_type": "code",
   "execution_count": null,
   "metadata": {},
   "outputs": [],
   "source": [
    "tlinks = pd.read_csv(\"trailer_links.csv\", encoding='latin1')\n",
    "tlinks = tlinks.query(\"getme == 'x'\")\n",
    "hrefs = tlinks.link.tolist()\n",
    "\n",
    "baseurl = r\"https://www.traileraddict.com\"\n",
    "\n",
    "trailist = []\n",
    "print(len(hrefs))\n",
    "\n",
    "# for i, h in enumerate(hrefs):\n",
    "#     print(i,h)\n",
    "h = r\"/the-avengers/feature-trailer\"\n",
    "i = 0\n",
    "page = requests.get(baseurl + h).text\n",
    "soup = BeautifulSoup(page, \"html.parser\")\n",
    "\n",
    "me = {'link': h, 'enum': i}\n",
    "#me['mp4'] = soup.find('video')['src']\n",
    "\n",
    "txts = soup.find('div', id='interior')\n",
    "\n",
    "heads = [\"Duration\", \"Views\", \"Posted On\", \"Cast\", \"Director\", \"Writer\", \"Studio\", \"Release\", \"Trailer Tracks\"]\n",
    "\n",
    "strs = txts.stripped_strings\n",
    "\n",
    "curr_hd = \"\"\n",
    "curr_list = []\n",
    "\n",
    "for x in strs:\n",
    "    if x in heads:\n",
    "        if curr_hd != \"\":\n",
    "            me[curr_hd] = ';'.join(curr_list)\n",
    "        curr_hd = x\n",
    "        curr_list = []\n",
    "    else:\n",
    "        curr_list.append(x)\n",
    "\n",
    "trailist.append(me)"
   ]
  },
  {
   "cell_type": "code",
   "execution_count": null,
   "metadata": {},
   "outputs": [],
   "source": [
    "df_trailers = pd.DataFrame(trailist)\n",
    "df_trailers.shape\n",
    "df_trailers.to_csv(\"trailer_details.csv\")"
   ]
  },
  {
   "cell_type": "code",
   "execution_count": 12,
   "metadata": {},
   "outputs": [],
   "source": []
  },
  {
   "cell_type": "code",
   "execution_count": 22,
   "metadata": {},
   "outputs": [
    {
     "data": {
      "text/plain": [
       "True"
      ]
     },
     "execution_count": 22,
     "metadata": {},
     "output_type": "execute_result"
    }
   ],
   "source": [
    "#Selenium items\n",
    "from selenium import webdriver #webdriver to control activities\n",
    "from selenium.webdriver.common.by import By #types of navigation\n",
    "from selenium.webdriver.support.ui import WebDriverWait #waiting\n",
    "import time\n",
    "\n",
    "def start_driver(runheadless = False):\n",
    "    \"\"\"Initialize a Chrome webdriver with which for Selenium to act. \"\"\"\n",
    "    #set Chromedriver options to work smoothly\n",
    "    options = webdriver.ChromeOptions()\n",
    "    options.add_argument(\"start-maximized\") # open Browser in maximized mode\n",
    "    options.add_argument(\"disable-infobars\") # disabling infobars\n",
    "    options.add_argument(\"--disable-extensions\") # disabling extensions\n",
    "    options.add_argument(\"--disable-gpu\") # applicable to windows os only\n",
    "    options.add_argument(\"--disable-dev-shm-usage\") # overcome limited resource problems\n",
    "    options.add_argument(\"--no-sandbox\") # Bypass OS security model  \n",
    "    if runheadless:\n",
    "        options.add_argument(\"--headless\")  \n",
    "    options.add_argument(\"--remote-debugging-port=9222\")\n",
    "    options.add_argument('--ignore-certificate-errors')\n",
    "    options.add_argument(\"--test-type\")\n",
    "    driver = webdriver.Chrome(options=options,\n",
    "            executable_path=r\"D:\\chromedriver.exe\")\n",
    "    driver.implicitly_wait(10) # seconds\n",
    "    \n",
    "    driver.get(\"https://www.google.com/\") #open the given URL\n",
    "    time.sleep(1) #wait for everything to load\n",
    "\n",
    "    return driver\n",
    "\n",
    "load_dotenv()\n"
   ]
  },
  {
   "cell_type": "code",
   "execution_count": 23,
   "metadata": {},
   "outputs": [],
   "source": [
    "driver = start_driver()"
   ]
  },
  {
   "cell_type": "code",
   "execution_count": 33,
   "metadata": {},
   "outputs": [
    {
     "data": {
      "text/plain": [
       "{'imdb_id': 'tt0848228',\n",
       " 'film_title': 'The Avengers',\n",
       " 'year': 2012,\n",
       " 'tradd_url': '/the-avengers',\n",
       " 'link': '/the-avengers/feature-trailer',\n",
       " 'tags': 'Paramount Pictures|Marvel Studios|Action|Adventure|Comicbook|Samuel L. Jackson|Robert Downey, Jr.|Chris Evans|Chris Hemsworth|Jeremy Renner|Scarlett Johansson|Tom Hiddleston|Mark Ruffalo|Clark Gregg',\n",
       " 'filename': 'the-avengers_feature-trailer'}"
      ]
     },
     "execution_count": 33,
     "metadata": {},
     "output_type": "execute_result"
    }
   ],
   "source": [
    "tdicts = pd.read_csv(\"traileraddict_songlinks.csv\", encoding='latin1')\n",
    "tdicts = list(tdicts.T.to_dict().values())\n",
    "tdicts[0]"
   ]
  },
  {
   "cell_type": "code",
   "execution_count": 37,
   "metadata": {
    "collapsed": true,
    "jupyter": {
     "outputs_hidden": true
    }
   },
   "outputs": [
    {
     "name": "stdout",
     "output_type": "stream",
     "text": [
      "0 {'imdb_id': 'tt0848228', 'film_title': 'The Avengers', 'year': 2012, 'tradd_url': '/the-avengers', 'link': '/the-avengers/feature-trailer', 'tags': 'Paramount Pictures|Marvel Studios|Action|Adventure|Comicbook|Samuel L. Jackson|Robert Downey, Jr.|Chris Evans|Chris Hemsworth|Jeremy Renner|Scarlett Johansson|Tom Hiddleston|Mark Ruffalo|Clark Gregg', 'filename': 'the-avengers_feature-trailer', 'mp4': 'https://vod-progressive.akamaized.net/exp=1614567052~acl=%2A%2F672628421.mp4%2A~hmac=67225923774e951b304981850cf239c0bc9193be72459ab42e5d0cafea9df44e/vimeo-prod-skyfire-std-us/01/4885/7/199427458/672628421.mp4?filename=The+Avengers+-+Feature+Trailer+%2853612%29.mp4', 'i': 0}\n",
      "1 {'imdb_id': 'tt0472033', 'film_title': '9', 'year': 2009, 'tradd_url': '/9-feature', 'link': '/9-feature/trailer', 'tags': 'Focus Features|Action|CG Animation|Teaser|Remake', 'filename': '9-feature_trailer', 'mp4': 'https://vod-progressive.akamaized.net/exp=1614567460~acl=%2A%2F668367041.mp4%2A~hmac=229d266a30dc6e440e11e236e028b6e2c1955626ed56d7fc6ea460f2c9db41e1/vimeo-prod-skyfire-std-us/01/4691/7/198459490/668367041.mp4?filename=9+-+Trailer+%287982%29.mp4', 'i': 1}\n",
      "2 {'imdb_id': 'tt0472033', 'film_title': '9', 'year': 2009, 'tradd_url': '/9-feature', 'link': '/9-feature/feature-trailer', 'tags': 'Focus Features|Action|CG Animation|Remake|Elijah Wood|Jennifer Connelly|Christopher Plummer', 'filename': '9-feature_feature-trailer', 'mp4': 'https://vod-progressive.akamaized.net/exp=1614556665~acl=%2Fvimeo-prod-skyfire-std-us%2F01%2F4697%2F7%2F198485980%2F668474051.mp4~hmac=898b72acee679899e79a2802e98c055ac835787ac80467eae7a117c28d8ed2f9/vimeo-prod-skyfire-std-us/01/4697/7/198485980/668474051.mp4?filename=9+-+Feature+Trailer+%2811098%29.mp4', 'i': 2}\n",
      "3 {'imdb_id': 'tt0416449', 'film_title': '300', 'year': 2007, 'tradd_url': '/300', 'link': '/300/teaser-trailer', 'tags': 'Warner Bros. Pictures|Action|Comicbook|Teaser|Gerard Butler|Lena Headey|David Wenham|Vincent Regan|Rodrigo Santoro|Dominic West', 'filename': '300_teaser-trailer', 'mp4': 'https://vod-progressive.akamaized.net/exp=1614567471~acl=%2A%2F667678482.mp4%2A~hmac=9d992b7c63772cc6126d24ed16734b6e91625586b47b010656f8f1c94934c3a4/vimeo-prod-skyfire-std-us/01/4660/7/198302882/667678482.mp4?filename=300+-+Teaser+Trailer+%2835%29.mp4', 'i': 3}\n",
      "4 {'imdb_id': 'tt1190080', 'film_title': '2012', 'year': 2009, 'tradd_url': '/2012', 'link': '/2012/trailer', 'tags': 'Columbia Pictures|Action|Adventure|John Cusack|Amanda Peet|Chiwetel Ejiofor|Danny Glover|Thandie Newton|Oliver Platt|Thomas McCarthy|Woody Harrelson|Chin Han|Morgan Lily|Beatrice Rosen', 'filename': '2012_trailer', 'mp4': 'https://vod-progressive.akamaized.net/exp=1614567481~acl=%2A%2F668502326.mp4%2A~hmac=c835f9557549084810ca9ba8d61a841abd644ffae958215450149ba39a647d03/vimeo-prod-skyfire-std-us/01/4698/7/198492618/668502326.mp4?filename=2012+-+Trailer+%2811768%29.mp4', 'i': 4}\n",
      "5 {'imdb_id': 'tt1022603', 'film_title': '(500) Days of Summer', 'year': 2009, 'tradd_url': '/500-days-of-summer', 'link': '/500-days-of-summer/trailer', 'tags': 'Fox Searchlight|Comedy|Joseph Gordon-Levitt|Zooey Deschanel|Clark Gregg|Minka Kelly|Rachel Boston|Matthew Gray Gubler|ChloÃ« Grace Moretz', 'filename': '500-days-of-summer_trailer', 'mp4': 'https://vod-progressive.akamaized.net/exp=1614567486~acl=%2A%2F668404448.mp4%2A~hmac=5e34b0daa8a768bf7c65d0c757c4eb3a14a560b073e8deff4391bfc0ee317ff3/vimeo-prod-skyfire-std-us/01/4693/7/198468771/668404448.mp4?filename=500+Days+of+Summer+-+Trailer+%289268%29.mp4', 'i': 5}\n",
      "6 {'imdb_id': 'tt1022603', 'film_title': '(500) Days of Summer', 'year': 2009, 'tradd_url': '/500-days-of-summer', 'link': '/500-days-of-summer/teaser-trailer', 'tags': 'Fox Searchlight|Comedy|Joseph Gordon-Levitt|Zooey Deschanel|Clark Gregg|Minka Kelly|Rachel Boston|Matthew Gray Gubler|ChloÃ« Grace Moretz', 'filename': '500-days-of-summer_teaser-trailer', 'mp4': 'https://vod-progressive.akamaized.net/exp=1614567490~acl=%2A%2F668375387.mp4%2A~hmac=b457b85bcc77a4f2bf2d3ab59e6b374d7fc7b8075c30fabe0f5a30100c998fcc/vimeo-prod-skyfire-std-us/01/4692/7/198461571/668375387.mp4?filename=500+Days+of+Summer+-+Teaser+Trailer+%288287%29.mp4', 'i': 6}\n",
      "7 {'imdb_id': 'tt2024544', 'film_title': '12 Years a Slave', 'year': 2013, 'tradd_url': '/12-years-a-slave', 'link': '/12-years-a-slave/trailer', 'tags': \"Fox Searchlight|Drama|Biopic|Chiwetel Ejiofor|Michael Fassbender|Benedict Cumberbatch|Paul Dano|Paul Giamatti|Lupita Nyong'o|Sarah Paulson|Brad Pitt|Alfre Woodard|Scoot McNairy\", 'filename': '12-years-a-slave_trailer', 'mp4': 'https://vod-progressive.akamaized.net/exp=1614567494~acl=%2A%2F673778074.mp4%2A~hmac=5fbfae83ae5ba377d412436aba678306e88c6624366d789dc4b23559db7b5f6c/vimeo-prod-skyfire-std-us/01/4939/7/199697233/673778074.mp4?filename=12+Years+a+Slave+-+Trailer+%2877108%29.mp4', 'i': 7}\n",
      "8 {'imdb_id': 'tt2172934', 'film_title': '3 Days to Kill', 'year': 2014, 'tradd_url': '/3-days-to-kill', 'link': '/3-days-to-kill/trailer', 'tags': 'Relativity Media|Thriller|Action|Kevin Costner|Amber Heard|Hailee Steinfeld|Connie Nielsen', 'filename': '3-days-to-kill_trailer', 'mp4': 'https://vod-progressive.akamaized.net/exp=1614567499~acl=%2A%2F674263491.mp4%2A~hmac=68fd888b37238329d94c1d19c5b66fc3e748f364d4727ec72359540dee3630ae/vimeo-prod-skyfire-std-us/01/4961/7/199806271/674263491.mp4?filename=3+Days+to+Kill+-+Trailer+%2884593%29.mp4', 'i': 8}\n",
      "9 {'imdb_id': 'tt0120623', 'film_title': \"A Bug's Life\", 'year': 1998, 'tradd_url': '/a-bugs-life', 'link': '/a-bugs-life/trailer', 'tags': 'Pixar Animation|Walt Disney Pictures|CG Animation|Family|Dave Foley|Denis Leary|Kevin Spacey|Phyllis Diller|Brad Garrett|Jonathan Harris', 'filename': 'a-bugs-life_trailer', 'mp4': 'https://vod-progressive.akamaized.net/exp=1614567504~acl=%2A%2F668375957.mp4%2A~hmac=8c34ef013308fb3bddf9a7b8db3e3edb01dcd49a0e6a29389a2fd9ca8b9954bd/vimeo-prod-skyfire-std-us/01/4692/7/198461729/668375957.mp4?filename=A+Bug%27s+Life+-+Trailer+%288310%29.mp4', 'i': 9}\n",
      "10 {'imdb_id': 'tt0405296', 'film_title': 'A Scanner Darkly', 'year': 2006, 'tradd_url': '/scanner-darkly', 'link': '/scanner-darkly/teaser-trailer', 'tags': 'Warner Independent|Keanu Reeves|Robert Downey, Jr.|Woody Harrelson|Winona Ryder|Rory Cochrane|Animation', 'filename': 'scanner-darkly_teaser-trailer', 'mp4': 'https://vod-progressive.akamaized.net/exp=1614567510~acl=%2A%2F667818258.mp4%2A~hmac=bc53eaaddc9ad1f40eed4fe62f90dd5381484001297a5df734dce08eab9f29f3/vimeo-prod-skyfire-std-us/01/4667/7/198335730/667818258.mp4?filename=A+Scanner+Darkly+-+Teaser+Trailer+%28219%29.mp4', 'i': 10}\n",
      "11 {'imdb_id': 'tt1091722', 'film_title': 'Adventureland', 'year': 2009, 'tradd_url': '/adventureland', 'link': '/adventureland/trailer', 'tags': 'Miramax Films|Comedy|Jesse Eisenberg|Ryan Reynolds|Kristen Stewart|Bill Hader|Kristen Wiig|South by Southwest Film Festival', 'filename': 'adventureland_trailer', 'mp4': 'https://vod-progressive.akamaized.net/exp=1614567514~acl=%2A%2F668353026.mp4%2A~hmac=4c7c0688ab0356eaead0788f33e1d81ac5641ffb93d45a9f41780b261e8991c2/vimeo-prod-skyfire-std-us/01/4691/7/198455953/668353026.mp4?filename=Adventureland+-+Trailer+%287454%29.mp4', 'i': 11}\n",
      "12 {'imdb_id': 'tt0881891', 'film_title': 'All About Steve', 'year': 2009, 'tradd_url': '/all-about-steve', 'link': '/all-about-steve/trailer', 'tags': '20th Century Fox|Comedy|Sandra Bullock|Thomas Haden Church|Bradley Cooper|Sara Sanderson|Katy Mixon|Ken Jeong|M.C. Gainey|Keith David', 'filename': 'all-about-steve_trailer', 'mp4': 'https://vod-progressive.akamaized.net/exp=1614567525~acl=%2A%2F668371410.mp4%2A~hmac=d270ca136c8020e98aab06a1a0c17615f50cf1e2655093e90da7d941f9b6f7c4/vimeo-prod-skyfire-std-us/01/4692/7/198460585/668371410.mp4?filename=All+About+Steve+-+Trailer+%288138%29.mp4', 'i': 12}\n",
      "13 {'imdb_id': 'tt0426883', 'film_title': 'Alpha Dog', 'year': 2007, 'tradd_url': '/alpha-dog', 'link': '/alpha-dog/trailer', 'tags': 'Drama|Universal Pictures|Ben Foster|Shawn Hatosy|Emile Hirsch|Chris Marquette|Sharon Stone|Justin Timberlake|Anton Yelchin|Bruce Willis', 'filename': 'alpha-dog_trailer', 'mp4': 'https://vod-progressive.akamaized.net/exp=1614567793~acl=%2A%2F667894664.mp4%2A~hmac=86771133c51efe6450554779fb39d62e48faf97d1f0d67712af13ee44c426732/vimeo-prod-skyfire-std-us/01/4670/7/198353389/667894664.mp4?filename=Alpha+Dog+-+Trailer+%28375%29.mp4', 'i': 13}\n",
      "14 {'imdb_id': 'tt1823664', 'film_title': 'Annie', 'year': 2014, 'tradd_url': '/annie-2014', 'link': '/annie-2014/feature-trailer', 'tags': 'Sony Pictures|Comedy|Drama|Family|Musical/Broadway/Play|Remake|Jamie Foxx|QuvenzhanÃ© Wallis|Rose Byrne|Bobby Cannavale|Adewale Akinnuoye-Agbaje|David Zayas|Cameron Diaz|Musical', 'filename': 'annie-2014_feature-trailer', 'mp4': 'https://vod-progressive.akamaized.net/exp=1614567806~acl=%2A%2F674840884.mp4%2A~hmac=07b1bebb3757ade7f7d6221d2434c77bc5ef5dc342188076df0cde607e379484/vimeo-prod-skyfire-std-us/01/4986/7/199934333/674840884.mp4?filename=Annie+-+Feature+Trailer+%2891065%29.mp4', 'i': 14}\n",
      "15 {'imdb_id': 'tt1823664', 'film_title': 'Annie', 'year': 2014, 'tradd_url': '/annie-2014', 'link': '/annie-2014/trailer', 'tags': 'Sony Pictures|Comedy|Drama|Family|Musical/Broadway/Play|Remake|Jamie Foxx|QuvenzhanÃ© Wallis|Rose Byrne|Bobby Cannavale|Adewale Akinnuoye-Agbaje|David Zayas|Cameron Diaz|Musical', 'filename': 'annie-2014_trailer', 'mp4': 'https://vod-progressive.akamaized.net/exp=1614557024~acl=%2Fvimeo-prod-skyfire-std-us%2F01%2F4972%2F7%2F199864724%2F674529214.mp4~hmac=1d8a6eb56ff3e968ac5dd38f92f5bbcb709ad80bfe2bcde7ad742fc6d6defc91/vimeo-prod-skyfire-std-us/01/4972/7/199864724/674529214.mp4?filename=Annie+-+Trailer+%2887482%29.mp4', 'i': 15}\n",
      "16 {'imdb_id': 'tt0313792', 'film_title': 'Anything Else', 'year': 2003, 'tradd_url': '/anything-else', 'link': '/anything-else/trailer', 'tags': 'DreamWorks Pictures|Comedy|Romance|Jason Biggs|Christina Ricci', 'filename': 'anything-else_trailer', 'mp4': 'https://vod-progressive.akamaized.net/exp=1614567845~acl=%2A%2F668520993.mp4%2A~hmac=b3eb0fca307744f83bdb29dc30a2ffe153259d65fd1458c90068e3a678704db8/vimeo-prod-skyfire-std-us/01/4699/7/198497001/668520993.mp4?filename=Anything+Else+-+Trailer+%2812208%29.mp4', 'i': 16}\n",
      "17 {'imdb_id': 'tt1024648', 'film_title': 'Argo', 'year': 2012, 'tradd_url': '/argo', 'link': '/argo/trailer', 'tags': 'Warner Bros. Pictures|Drama|Thriller|Ben Affleck|Alan Arkin|Bryan Cranston|John Goodman|Kerry BishÃ©|Kyle Chandler|Rory Cochrane|Christopher Denham|Tate Donovan|Clea DuVall|Victor Garber', 'filename': 'argo_trailer', 'mp4': 'https://vod-progressive.akamaized.net/exp=1614567857~acl=%2A%2F672716538.mp4%2A~hmac=a23762dea5e2c6e49d3081252a974f5032e82ca61830ac9e1c41437a77a6bcc0/vimeo-prod-skyfire-std-us/01/4889/7/199449053/672716538.mp4?filename=Argo+-+Trailer+%2856445%29.mp4', 'i': 17}\n",
      "18 {'imdb_id': 'tt0375568', 'film_title': 'Astro Boy', 'year': 2009, 'tradd_url': '/astro-boy', 'link': '/astro-boy/teaser-trailer', 'tags': 'Summit Entertainment|Adventure|CG Animation|Television|Teaser', 'filename': 'astro-boy_teaser-trailer', 'mp4': 'https://vod-progressive.akamaized.net/exp=1614567881~acl=%2A%2F668352767.mp4%2A~hmac=98156bcf78bdfae26f215afdd678fa00e941d6415e84fe047337fe03979ae087/vimeo-prod-skyfire-std-us/01/4691/7/198455901/668352767.mp4?filename=Astro+Boy+-+Teaser+Trailer+%287448%29.mp4', 'i': 18}\n",
      "19 {'imdb_id': 'tt0783233', 'film_title': 'Atonement', 'year': 2008, 'tradd_url': '/atonement', 'link': '/atonement/trailer', 'tags': 'Focus Features|Drama|Romance|Keira Knightley|James McAvoy|Romola Garai|Vanessa Redgrave|Brenda Blethyn', 'filename': 'atonement_trailer', 'mp4': 'https://vod-progressive.akamaized.net/exp=1614567906~acl=%2A%2F668040903.mp4%2A~hmac=c72934059a3b4b52f82fcd43e0918849148317654f0809607bb9b40a14ee5aad/vimeo-prod-skyfire-std-us/01/4676/7/198384890/668040903.mp4?filename=Atonement+-+Trailer+%28608%29.mp4', 'i': 19}\n",
      "20 {'imdb_id': 'tt1322269', 'film_title': 'August: Osage County', 'year': 2014, 'tradd_url': '/august-osage-county', 'link': '/august-osage-county/feature-trailer', 'tags': 'The Weinstein Company|Musical/Broadway/Play|Comedy|Drama|Meryl Streep|Julia Roberts|Ewan McGregor|Benedict Cumberbatch|Margo Martindale|Chris Cooper|Sam Shepard|Misty Upham|Juliette Lewis|Abigail Breslin|Dermot Mulroney|Julianne Nicholson|Newell Alexander', 'filename': 'august-osage-county_feature-trailer', 'mp4': 'https://vod-progressive.akamaized.net/exp=1614567917~acl=%2A%2F674049781.mp4%2A~hmac=ae8d740c4b9b4be6de1908837e94f29e7f2ac7b7d57c358d0d359448118d6cc3/vimeo-prod-skyfire-std-us/01/4951/7/199757439/674049781.mp4?filename=August%3A+Osage+County+-+Feature+Trailer+%2880442%29.mp4', 'i': 20}\n",
      "21 {'imdb_id': 'tt0455824', 'film_title': 'Australia', 'year': 2008, 'tradd_url': '/australia', 'link': '/australia/feature-trailer', 'tags': '20th Century Fox|Action|Drama|Romance|Nicole Kidman|Hugh Jackman', 'filename': 'australia_feature-trailer', 'mp4': 'https://vod-progressive.akamaized.net/exp=1614567934~acl=%2A%2F668348905.mp4%2A~hmac=c4ea87213d92ab372261a3e5165a617dc99b354b638b21e433d875efdad414c1/vimeo-prod-skyfire-std-us/01/4690/7/198454862/668348905.mp4?filename=Australia+-+Feature+Trailer+%287271%29.mp4', 'i': 21}\n",
      "22 {'imdb_id': 'tt0499549', 'film_title': 'Avatar', 'year': 2009, 'tradd_url': '/avatar', 'link': '/avatar/trailer-b', 'tags': '20th Century Fox|Action|Adventure|Sci Fi|Sigourney Weaver|Stephen Lang|ZoÃ« SaldaÃ±a|Sam Worthington|Michelle Rodriguez|Giovanni Ribisi|Joel David Moore|CCH Pounder|Peter Mensah|Laz Alonso|Wes Studi|Matt Gerald', 'filename': 'avatar_trailer-b', 'mp4': 'https://vod-progressive.akamaized.net/exp=1614567954~acl=%2A%2F668628471.mp4%2A~hmac=3b58f0d02c52ea62311c403e3a8c26d5ac1d59ca018e4754d8ddac8a161a19dc/vimeo-prod-skyfire-std-us/01/4704/7/198522606/668628471.mp4?filename=Avatar+-+Feature+Trailer+%2815274%29.mp4', 'i': 22}\n",
      "23 {'imdb_id': 'tt1217613', 'film_title': 'Battle: Los Angeles', 'year': 2011, 'tradd_url': '/battle-los-angeles', 'link': '/battle-los-angeles/trailer', 'tags': 'Columbia Pictures|Sci Fi|Action|Teaser|Aaron Eckhart|Michelle Rodriguez|Ramon Rodriguez|Bridget Moynahan', 'filename': 'battle-los-angeles_trailer', 'mp4': 'https://vod-progressive.akamaized.net/exp=1614567991~acl=%2A%2F671014064.mp4%2A~hmac=01b0f5233c5a6592be1aa61a1feaab5ef93c0c55efb83a89e1e56828ce4abfa9/vimeo-prod-skyfire-std-us/01/4813/7/199066389/671014064.mp4?filename=Battle%3A+Los+Angeles+-+Trailer+%2830354%29.mp4', 'i': 23}\n",
      "24 {'imdb_id': 'tt0486551', 'film_title': 'Beerfest', 'year': 2006, 'tradd_url': '/beerfest', 'link': '/beerfest/trailer', 'tags': 'Warner Bros. Pictures|Comedy|Kevin Heffernan|Steve Lemme|Paul Soter|JÃ¼rgen Prochnow|Erik Stolhanske|Will Forte|Eric Christian Olsen', 'filename': 'beerfest_trailer', 'mp4': 'https://vod-progressive.akamaized.net/exp=1614568003~acl=%2A%2F668375939.mp4%2A~hmac=7f014eb5ba0233f299da0d001ea3e465c6b85a9be954e075af16d3d49d9df4e9/vimeo-prod-skyfire-std-us/01/4692/7/198461721/668375939.mp4?filename=Beerfest+-+Trailer+%288306%29.mp4', 'i': 24}\n",
      "25 {'imdb_id': 'tt0159273', 'film_title': 'Behind Enemy Lines', 'year': 2001, 'tradd_url': '/behind-enemy-lines', 'link': '/behind-enemy-lines/trailer', 'tags': '20th Century Fox|Action|War|Owen Wilson|Gabriel Macht|Gene Hackman|Joaquim De Almeida|Vladimir Mashkov|David Keith|Olek Krupa', 'filename': 'behind-enemy-lines_trailer', 'mp4': 'https://vod-progressive.akamaized.net/exp=1614568013~acl=%2A%2F668371087.mp4%2A~hmac=10747e7dc2ee55cc2e255228ce3fb32ecf1e496aff9c594645b1a2a46a5e39bc/vimeo-prod-skyfire-std-us/01/4692/7/198460521/668371087.mp4?filename=Behind+Enemy+Lines+-+Trailer+%288128%29.mp4', 'i': 25}\n",
      "26 {'imdb_id': 'tt0265086', 'film_title': 'Black Hawk Down', 'year': 2002, 'tradd_url': '/black-hawk-down', 'link': '/black-hawk-down/teaser-trailer', 'tags': 'Columbia Pictures|Historical|Action|Drama|War|Teaser|Josh Hartnett|Tom Sizemore|Ewan McGregor|Sam Shepard', 'filename': 'black-hawk-down_teaser-trailer', 'mp4': 'https://vod-progressive.akamaized.net/exp=1614568045~acl=%2A%2F668515894.mp4%2A~hmac=e9ae1aac865ea2baadcb65790c1a8455061182dd1831cd23d2097a6b81a315db/vimeo-prod-skyfire-std-us/01/4699/7/198495804/668515894.mp4?filename=Black+Hawk+Down+-+Teaser+Trailer+%2812084%29.mp4', 'i': 26}\n",
      "27 {'imdb_id': 'tt1825683', 'film_title': 'Black Panther', 'year': 2018, 'tradd_url': '/black-panther-2018', 'link': '/black-panther-2018/teaser-trailer', 'tags': \"Marvel Studios|Walt Disney Pictures|Comicbook|Action|Sci Fi|Fantasy|Teaser|Chadwick Boseman|Danai Gurira|Lupita Nyong'o|Michael B. Jordan|Martin Freeman|Daniel Kaluuya|Angela Bassett|Andy Serkis|Sterling K. Brown|Isaach De BankolÃ©|Forest Whitaker\", 'filename': 'black-panther-2018_teaser-trailer', 'mp4': 'https://vod-progressive.akamaized.net/exp=1614568053~acl=%2A%2F770456253.mp4%2A~hmac=165dae2f0bf077f116753d63cda44f01f668e801bd80a2a0ef9e0c9980e34743/vimeo-prod-skyfire-std-us/01/4209/8/221047475/770456253.mp4?filename=Black+Panther+-+Teaser+Trailer+%28119282%29.mp4', 'i': 27}\n",
      "28 {'imdb_id': 'tt1430612', 'film_title': 'Brick Mansions', 'year': 2014, 'tradd_url': '/brick-mansions', 'link': '/brick-mansions/feature-trailer', 'tags': 'Relativity Media|Action|Crime|Remake|Paul Walker|RZA|David Belle|Carlo Rota|Kalinka Petrie|Bruce Ramsay', 'filename': 'brick-mansions_feature-trailer', 'mp4': 'https://vod-progressive.akamaized.net/exp=1614568071~acl=%2A%2F674610706.mp4%2A~hmac=4438a5add992888cf2eadd4a06cc2e56e9e6db58f88285130aec698c49b658d0/vimeo-prod-skyfire-std-us/01/4976/7/199882833/674610706.mp4?filename=Brick+Mansions+-+Feature+Trailer+%2888262%29.mp4', 'i': 28}\n",
      "29 {'imdb_id': 'tt0901476', 'film_title': 'Bride Wars', 'year': 2009, 'tradd_url': '/bride-wars', 'link': '/bride-wars/trailer', 'tags': '20th Century Fox|Comedy|Romance|Anne Hathaway|Kate Hudson|Candice Bergen|Kristen Johnston', 'filename': 'bride-wars_trailer', 'mp4': 'https://vod-progressive.akamaized.net/exp=1614568091~acl=%2A%2F668340217.mp4%2A~hmac=07658d33c54170976cc1de160e2bafe12910ac900a2ba0263b4f2c0ce7187132/vimeo-prod-skyfire-std-us/01/4690/7/198452704/668340217.mp4?filename=Bride+Wars+-+Trailer+%286918%29.mp4', 'i': 29}\n",
      "30 {'imdb_id': 'tt0458339', 'film_title': 'Captain America: The First Avenger', 'year': 2011, 'tradd_url': '/captain-america-the-first-avenger', 'link': '/captain-america-the-first-avenger/trailer', 'tags': 'Paramount Pictures|Action|Adventure|Comicbook|Chris Evans|Hayley Atwell|Hugo Weaving|Sebastian Stan|Stanley Tucci|Tommy Lee Jones|Dominic Cooper|Natalie Dormer', 'filename': 'captain-america-the-first-avenger_trailer', 'mp4': 'https://vod-progressive.akamaized.net/exp=1614568107~acl=%2A%2F671504337.mp4%2A~hmac=2d03eb6a3119fbcfe9b044aeaa5d5cd7f09513503949b8cd08f5d567c057b8c1/vimeo-prod-skyfire-std-us/01/4835/7/199176811/671504337.mp4?filename=Captain+America%3A+The+First+Avenger+-+Trailer+%2837171%29.mp4', 'i': 30}\n",
      "31 {'imdb_id': 'tt1194417', 'film_title': 'Casino Jack', 'year': 2011, 'tradd_url': '/bagman', 'link': '/bagman/trailer', 'tags': 'Thriller|Kevin Spacey|Berry Pepper|Kelly Preston|Jon Lovitz|Graham Greene|Rachelle Lefevre|Maury Chaykin|Hannibal Pictures', 'filename': 'bagman_trailer', 'mp4': 'https://vod-progressive.akamaized.net/exp=1614568125~acl=%2A%2F668982647.mp4%2A~hmac=6d9ab3fbd599d2f7efe0ef7ef5193e9711a49b4c3f186b542e070154a8043383/vimeo-prod-skyfire-std-us/01/4721/7/198609672/668982647.mp4?filename=Casino+Jack+-+Trailer+%2822962%29.mp4', 'i': 31}\n",
      "32 {'imdb_id': 'tt0450405', 'film_title': \"Cirque du Freak: The Vampire's Assistant\", 'year': 2009, 'tradd_url': '/cirque-du-freak-vampires-assistant', 'link': '/cirque-du-freak-vampires-assistant/trailer', 'tags': 'Universal Pictures|Action|Drama|Family|Adventure|Fantasy|Horror|Thriller|John C. Reilly|Ken Watanabe|Josh Hutcherson|Chris Massoglia|Patrick Fugit|Ray Stevenson|Michael Cerveris|Frankie Faison|Jane Krakowski|Orlando Jones|Kristen Schaal|Salma Hayek', 'filename': 'cirque-du-freak-vampires-assistant_trailer', 'mp4': 'https://vod-progressive.akamaized.net/exp=1614568140~acl=%2A%2F668552839.mp4%2A~hmac=09b79ce003c60629787c7d6c70795e036dc2614901def8e4c13f4045562b9163/vimeo-prod-skyfire-std-us/01/4700/7/198504555/668552839.mp4?filename=Cirque+Du+Freak%3A+The+Vampire%27s+Assistant+-+Trailer+%2813022%29.mp4', 'i': 32}\n",
      "33 {'imdb_id': 'tt0800320', 'film_title': 'Clash of the Titans', 'year': 2010, 'tradd_url': '/clash-of-the-titans', 'link': '/clash-of-the-titans/feature-trailer', 'tags': 'Warner Bros. Pictures|Action|Adventure|Teaser|Sam Worthington|Liam Neeson|Ralph Fiennes|Danny Huston|Gemma Arterton|Mads Mikkelsen|Jason Flemyng|Alexa Davalos', 'filename': 'clash-of-the-titans_feature-trailer', 'mp4': 'https://vod-progressive.akamaized.net/exp=1614568156~acl=%2A%2F668678067.mp4%2A~hmac=6d077be61f633c6b031b39732d96252133d89169281736f872facb900f7d41a3/vimeo-prod-skyfire-std-us/01/4706/7/198534988/668678067.mp4?filename=Clash+of+the+Titans+-+Feature+Trailer+%2817045%29.mp4', 'i': 33}\n",
      "34 {'imdb_id': 'tt0800320', 'film_title': 'Clash of the Titans', 'year': 2010, 'tradd_url': '/clash-of-the-titans', 'link': '/clash-of-the-titans/trailer', 'tags': 'Warner Bros. Pictures|Action|Adventure|Teaser|Sam Worthington|Liam Neeson|Ralph Fiennes|Danny Huston|Gemma Arterton|Mads Mikkelsen|Jason Flemyng|Alexa Davalos', 'filename': 'clash-of-the-titans_trailer', 'mp4': 'https://vod-progressive.akamaized.net/exp=1614568172~acl=%2A%2F668647460.mp4%2A~hmac=be97a094287554754a1bae0ffa19d774aa063ad7a471df6e85986ea41c1aae9e/vimeo-prod-skyfire-std-us/01/4705/7/198527396/668647460.mp4?filename=Clash+of+the+Titans+-+Trailer+%2815897%29.mp4', 'i': 34}\n",
      "35 {'imdb_id': 'tt1371111', 'film_title': 'Cloud Atlas', 'year': 2012, 'tradd_url': '/cloud-atlas', 'link': '/cloud-atlas/trailer', 'tags': \"Warner Bros. Pictures|Drama|Fantasy|Sci Fi|Book|Tom Hanks|Halle Berry|Jim Broadbent|Hugo Weaving|Jim Sturgess|Doona Bae|Ben Whishaw|James D'Arcy|Xun Zhou|Keith David|David Gyasi|Susan Sarandon|Hugh Grant\", 'filename': 'cloud-atlas_trailer', 'mp4': 'https://vod-progressive.akamaized.net/exp=1614557385~acl=%2Fvimeo-prod-skyfire-std-us%2F01%2F4897%2F7%2F199486412%2F672875938.mp4~hmac=d79a5f42eed356efb0bed899226e410d376aefac2084147e337874941d2163fa/vimeo-prod-skyfire-std-us/01/4897/7/199486412/672875938.mp4?filename=Cloud+Atlas+-+Trailer+%2859836%29.mp4', 'i': 35}\n",
      "36 {'imdb_id': 'tt0844471', 'film_title': 'Cloudy with a Chance of Meatballs', 'year': 2009, 'tradd_url': '/cloudy-wuth-a-chance-of-meatballs', 'link': '/cloudy-wuth-a-chance-of-meatballs/feature-trailer', 'tags': 'Columbia Pictures|CG Animation|Book|Family|Comedy|Bill Hader|Anna Faris|James Caan|Bruce Campbell|Andy Samberg|Mr T.|Tracy Morgan', 'filename': 'cloudy-wuth-a-chance-of-meatballs_feature-trailer', 'mp4': 'https://vod-progressive.akamaized.net/exp=1614568216~acl=%2A%2F668513952.mp4%2A~hmac=048fe017d35d1dbadff92f21a3009a80bfd4293a840044a775e84971bec0f7de/vimeo-prod-skyfire-std-us/01/4699/7/198495351/668513952.mp4?filename=Cloudy+with+a+Chance+of+Meatballs+-+Trailer+%2812029%29.mp4', 'i': 36}\n",
      "37 {'imdb_id': 'tt0345074', 'film_title': 'Connie and Carla', 'year': 2004, 'tradd_url': '/connie-and-carla', 'link': '/connie-and-carla/trailer', 'tags': 'Universal Pictures|Comedy|Nia Vardalos|Toni Collette|David Duchovny', 'filename': 'connie-and-carla_trailer', 'mp4': 'https://vod-progressive.akamaized.net/exp=1614568237~acl=%2A%2F668439495.mp4%2A~hmac=d33105162bd7e5cdabfe755a413e69fc35bc47eb6f468e60a21627855bb5a666/vimeo-prod-skyfire-std-us/01/4695/7/198477587/668439495.mp4?filename=Connie+and+Carla+-+Trailer+%2810260%29.mp4', 'i': 37}\n",
      "38 {'imdb_id': 'tt0121164', 'film_title': 'Corpse Bride', 'year': 2005, 'tradd_url': '/corpse-bride', 'link': '/corpse-bride/teaser-trailer', 'tags': 'Warner Bros. Pictures|Teaser|Stop Motion Animation|Johnny Depp|Helena Bonham Carter|Emily Watson', 'filename': 'corpse-bride_teaser-trailer', 'mp4': 'https://vod-progressive.akamaized.net/exp=1614568248~acl=%2A%2F668377306.mp4%2A~hmac=cde22cef56f64335a5706ae8d4422fec52e2afe756e7ce3f8ddda11e3ce157f4/vimeo-prod-skyfire-std-us/01/4692/7/198462071/668377306.mp4?filename=Tim+Burton%27s+Corpse+Bride+-+Teaser+Trailer+%288359%29.mp4', 'i': 38}\n",
      "39 {'imdb_id': 'tt0121164', 'film_title': 'Corpse Bride', 'year': 2005, 'tradd_url': '/corpse-bride', 'link': '/corpse-bride/trailer', 'tags': 'Warner Bros. Pictures|Stop Motion Animation|Johnny Depp|Helena Bonham Carter|Emily Watson', 'filename': 'corpse-bride_trailer', 'mp4': 'https://vod-progressive.akamaized.net/exp=1614568256~acl=%2A%2F668377319.mp4%2A~hmac=208a4faa87dba4ebf1356b589dca546f3b551fc8c13f4f053fd769e3a0cb253c/vimeo-prod-skyfire-std-us/01/4692/7/198462072/668377319.mp4?filename=Tim+Burton%27s+Corpse+Bride+-+Trailer+%288360%29.mp4', 'i': 39}\n",
      "40 {'imdb_id': 'tt0409847', 'film_title': 'Cowboys & Aliens', 'year': 2011, 'tradd_url': '/cowboys-and-aliens', 'link': '/cowboys-and-aliens/feature-trailer', 'tags': 'Universal Pictures|Action|Thriller|Comicbook|Daniel Craig|Harrison Ford|Olivia Wilde|Clancy Brown|Adam Beach|Sam Rockwell', 'filename': 'cowboys-and-aliens_feature-trailer', 'mp4': 'https://vod-progressive.akamaized.net/exp=1614568263~acl=%2A%2F671656596.mp4%2A~hmac=f8dc63483f11e49d22a49160667e05e3659a6163b570b67d8fb7fee1c2901365/vimeo-prod-skyfire-std-us/01/4841/7/199209920/671656596.mp4?filename=Cowboys+%26+Aliens+-+Feature+Trailer+%2838535%29.mp4', 'i': 40}\n",
      "41 {'imdb_id': 'tt1121931', 'film_title': 'Crank: High Voltage', 'year': 2009, 'tradd_url': '/crank-high-voltage', 'link': '/crank-high-voltage/trailer', 'tags': 'Lionsgate|Jason Statham|Amy Smart|Dwight Yoakam|Efren Ramirez|Bai Ling|Action', 'filename': 'crank-high-voltage_trailer', 'mp4': 'https://vod-progressive.akamaized.net/exp=1614568276~acl=%2A%2F668374254.mp4%2A~hmac=6ec03f83c7f559ce54cf45c1154bb996c451ad7fe2c8620e5ec3fc8e7a3203c1/vimeo-prod-skyfire-std-us/01/4692/7/198461317/668374254.mp4?filename=Crank+2%3A+High+Voltage+-+Trailer+%288247%29.mp4', 'i': 41}\n",
      "42 {'imdb_id': 'tt1570728', 'film_title': 'Crazy, Stupid, Love.', 'year': 2011, 'tradd_url': '/crazy-stupid-love', 'link': '/crazy-stupid-love/trailer', 'tags': 'Warner Bros. Pictures|Comedy|Romance|Steve Carell|Ryan Gosling|Emma Stone|Julianne Moore|Marisa Tomei|Kevin Bacon', 'filename': 'crazy-stupid-love_trailer', 'mp4': 'https://vod-progressive.akamaized.net/exp=1614568296~acl=%2A%2F671604270.mp4%2A~hmac=1f93d35130a15e41651a9be334ef3a3aa4d00f43e5898fe0f415a3ea3f212cc8/vimeo-prod-skyfire-std-us/01/4839/7/199198473/671604270.mp4?filename=Crazy%2C+Stupid%2C+Love+-+Trailer+%2838042%29.mp4', 'i': 42}\n",
      "43 {'imdb_id': 'tt1153706', 'film_title': 'Dance Flick', 'year': 2009, 'tradd_url': '/dance-flick', 'link': '/dance-flick/trailer', 'tags': 'Paramount Pictures|Comedy|Chelsea Makela|Keenen Ivory Wayans|Shawn Wayans|Marlon Wayans|Brennan Hillard|Kim Wayans|Damon Wayans Jr', 'filename': 'dance-flick_trailer', 'mp4': 'https://vod-progressive.akamaized.net/exp=1614568309~acl=%2A%2F668351336.mp4%2A~hmac=8be76a86962d8e088940918050ebc0d2eba45ca9a8f960daaf47f5194a158eae/vimeo-prod-skyfire-std-us/01/4691/7/198455502/668351336.mp4?filename=Dance+Flick+-+Trailer+%287387%29.mp4', 'i': 43}\n",
      "44 {'imdb_id': 'tt0433362', 'film_title': 'Daybreakers', 'year': 2010, 'tradd_url': '/daybreakers', 'link': '/daybreakers/trailer', 'tags': 'Lionsgate|Horror|Ethan Hawke|Willem Dafoe|Claudia Karvan|Michael Dorman|Vince Colosimo|Isabel Lucas|Sam Neill', 'filename': 'daybreakers_trailer', 'mp4': 'https://vod-progressive.akamaized.net/exp=1614568330~acl=%2A%2F668510314.mp4%2A~hmac=a1cb04d1971d28e43efeb4571de08e154b066a09160c0260cf2cfc682869ba0f/vimeo-prod-skyfire-std-us/01/4698/7/198494519/668510314.mp4?filename=Daybreakers+-+Trailer+%2811944%29.mp4', 'i': 44}\n",
      "45 {'imdb_id': 'tt1137450', 'film_title': 'Death Wish', 'year': 2018, 'tradd_url': '/death-wish', 'link': '/death-wish/feature-trailer', 'tags': \"Annapurna Pictures|Action|Crime|Drama|Book|Bruce Willis|Elisabeth Shue|Metro Goldwyn Mayer (MGM)|Vincent D'Onofrio|Kimberly Elise|Dean Norris|Camila Morrone\", 'filename': 'death-wish_feature-trailer', 'mp4': 'https://vod-progressive.akamaized.net/exp=1614568343~acl=%2A%2F904877115.mp4%2A~hmac=f3ab8d614da27098531d38b6cff945bf8e1f5d13079400cdf279d35e39b26abb/vimeo-prod-skyfire-std-us/01/4906/9/249533754/904877115.mp4?filename=Death+Wish+-+Feature+Trailer+%28122086%29.mp4', 'i': 45}\n",
      "46 {'imdb_id': 'tt0829150', 'film_title': 'Dracula Untold', 'year': 2014, 'tradd_url': '/dracula-untold', 'link': '/dracula-untold/trailer', 'tags': 'Universal Pictures|Action|Drama|Fantasy|Luke Evans|Sarah Gadon|Dominic Cooper|Samantha Barks|Diarmaid Murtagh|Charles Dance', 'filename': 'dracula-untold_trailer', 'mp4': 'https://vod-progressive.akamaized.net/exp=1614568360~acl=%2A%2F674891030.mp4%2A~hmac=bfaeb5db0b83e613027ab7744c48590f8eae27eb5c91daf5f9f8a2b002251181/vimeo-prod-skyfire-std-us/01/4989/7/199946277/674891030.mp4?filename=Dracula+Untold+-+Trailer+%2892005%29.mp4', 'i': 46}\n",
      "47 {'imdb_id': 'tt0879870', 'film_title': 'Eat Pray Love', 'year': 2010, 'tradd_url': '/eat-pray-love', 'link': '/eat-pray-love/trailer', 'tags': 'Columbia Pictures|Comedy|Drama|Book|Julia Roberts|Richard Jenkins|Javier Bardem|Viola Davis|Billy Crudup', 'filename': 'eat-pray-love_trailer', 'mp4': 'https://vod-progressive.akamaized.net/exp=1614568381~acl=%2A%2F668746902.mp4%2A~hmac=763a7f779776e17a4f2dd0eff4b19884abb6b65471be5a552a2c6ee10ad9d4c5/vimeo-prod-skyfire-std-us/01/4710/7/198552434/668746902.mp4?filename=Eat%2C+Pray%2C+Love+-+Trailer+%2819789%29.mp4', 'i': 47}\n",
      "48 {'imdb_id': 'tt1631867', 'film_title': 'Edge of Tomorrow', 'year': 2014, 'tradd_url': '/edge-of-tomorrow', 'link': '/edge-of-tomorrow/feature-trailer', 'tags': 'Warner Bros. Pictures|Book|Action|Sci Fi|Tom Cruise|Emily Blunt', 'filename': 'edge-of-tomorrow_feature-trailer', 'mp4': 'https://vod-progressive.akamaized.net/exp=1614568396~acl=%2A%2F674627814.mp4%2A~hmac=de928c4735cb7f255229ad5033591889f151cb4c7dd91b0a0f3c17e724ff396c/vimeo-prod-skyfire-std-us/01/4977/7/199886429/674627814.mp4?filename=Edge+of+Tomorrow+-+Feature+Trailer+%2888420%29.mp4', 'i': 48}\n",
      "49 {'imdb_id': 'tt1631867', 'film_title': 'Edge of Tomorrow', 'year': 2014, 'tradd_url': '/edge-of-tomorrow', 'link': '/edge-of-tomorrow/trailer', 'tags': 'Warner Bros. Pictures|Book|Action|Sci Fi|Tom Cruise|Emily Blunt|Bill Paxton|Kick Gurry|Dragomir Mrsic|Charlotte Riley|Jonas Armstrong|Franz Drameh', 'filename': 'edge-of-tomorrow_trailer', 'mp4': 'https://vod-progressive.akamaized.net/exp=1614568419~acl=%2A%2F674245877.mp4%2A~hmac=3627d38fc60d37e71586680a343c5e26d79dcfa1175b41af4ecede02f09018a7/vimeo-prod-skyfire-std-us/01/4960/7/199802292/674245877.mp4?filename=Edge+of+Tomorrow+-+Trailer+%2884341%29.mp4', 'i': 49}\n",
      "50 {'imdb_id': 'tt1674771', 'film_title': 'Entourage', 'year': 2015, 'tradd_url': '/entourage', 'link': '/entourage/trailer', 'tags': 'Warner Bros. Pictures|Comedy|Television|Billy Bob Thornton|Jeremy Piven|Nora Dunn|Emmanuelle Chriqui|Kevin Dillon|Debi Mazar|Adrian Grenier|Jerry Ferrara|Rhys Coiro|Kevin Connolly|Haley Joel Osment|Constance Zimmer|Perrey Reeves|Emily Ratajkowski|Rex Lee', 'filename': 'entourage_trailer', 'mp4': 'https://vod-progressive.akamaized.net/exp=1614568447~acl=%2A%2F675369416.mp4%2A~hmac=01e920893eeebd8e062e311decf18292afc23edccf273b342fed86b98b427831/vimeo-prod-skyfire-std-us/01/11/8/200056283/675369416.mp4?filename=Entourage+-+Trailer+%2898116%29.mp4', 'i': 50}\n",
      "51 {'imdb_id': 'tt0848537', 'film_title': 'Epic', 'year': 2013, 'tradd_url': '/epic-2013', 'link': '/epic-2013/feature-trailer', 'tags': '20th Century Fox|CG Animation|Adventure|Action|Josh Hutcherson|Amanda Seyfried|Aziz Ansari|Colin Farrell|Christoph Waltz|Jason Sudeikis', 'filename': 'epic-2013_feature-trailer', 'mp4': 'https://vod-progressive.akamaized.net/exp=1614567511~acl=%2A%2F673080321.mp4%2A~hmac=d5eeeef32b5650ffe99ba2381ed53baade71d7b99abbe64a60845ac9ff67967d/vimeo-prod-skyfire-std-us/01/4907/7/199535858/673080321.mp4?filename=Epic+-+Feature+Trailer+%2866239%29.mp4', 'i': 51}\n",
      "52 {'imdb_id': 'tt0848537', 'film_title': 'Epic', 'year': 2013, 'tradd_url': '/epic-2013', 'link': '/epic-2013/trailer', 'tags': '20th Century Fox|CG Animation|Adventure|Action|Teaser|Josh Hutcherson|Amanda Seyfried|Aziz Ansari', 'filename': 'epic-2013_trailer', 'mp4': 'https://vod-progressive.akamaized.net/exp=1614568485~acl=%2A%2F672828290.mp4%2A~hmac=95ffb987407908a0c95920040463e562050282e52dc0a5760d84133e8ba69fac/vimeo-prod-skyfire-std-us/01/4895/7/199475236/672828290.mp4?filename=Epic+-+Trailer+%2858779%29.mp4', 'i': 52}\n",
      "53 {'imdb_id': 'tt0780511', 'film_title': \"Everybody's Fine\", 'year': 2009, 'tradd_url': '/everybodys-fine', 'link': '/everybodys-fine/trailer', 'tags': 'Miramax Films|Comedy|Drama|Adventure|Robert De Niro|Drew Barrymore|Kate Beckinsale|Sam Rockwell', 'filename': 'everybodys-fine_trailer', 'mp4': 'https://vod-progressive.akamaized.net/exp=1614568503~acl=%2A%2F668591782.mp4%2A~hmac=e4643340b3d9e57f3d9f2f64529cbb7f5839227df53be134985d0fabab76cd32/vimeo-prod-skyfire-std-us/01/4702/7/198513919/668591782.mp4?filename=Everybody%27s+Fine+-+Trailer+%2814126%29.mp4', 'i': 53}\n",
      "54 {'imdb_id': 'tt1225822', 'film_title': 'Extract', 'year': 2009, 'tradd_url': '/extract', 'link': '/extract/teaser-trailer', 'tags': 'Miramax Films|Comedy|Teaser|Jason Bateman|Mila Kunis|Ben Affleck|Kristen Wiig|J.K. Simmons|Clifton Collins Jr.|Beth Grant', 'filename': 'extract_teaser-trailer', 'mp4': 'https://vod-progressive.akamaized.net/exp=1614568520~acl=%2A%2F668435711.mp4%2A~hmac=8ea480e40206e150bb57c04bc92fb8f128d2dbd9a4bd6f89d84ef2d0b9ff408b/vimeo-prod-skyfire-std-us/01/4695/7/198476629/668435711.mp4?filename=Extract+-+Teaser+Trailer+%2810159%29.mp4', 'i': 54}\n",
      "55 {'imdb_id': 'tt0120663', 'film_title': 'Eyes Wide Shut', 'year': 1999, 'tradd_url': '/eyes-wide-shut', 'link': '/eyes-wide-shut/feature-trailer', 'tags': 'Warner Bros. Pictures|Drama|Mystery|Romance|Tom Cruise|Nicole Kidman|Sydney Pollack|Leelee Sobieski|Marie Richardson|Rade Serbedzija|Todd Field|Vinessa Shaw|Sky du Mont|Fay Masterson', 'filename': 'eyes-wide-shut_feature-trailer', 'mp4': 'https://vod-progressive.akamaized.net/exp=1614568541~acl=%2A%2F675271004.mp4%2A~hmac=abad182438c3e6a94f9838af0c946cea267eefadeb080f4a2505429f0bbf0c9a/vimeo-prod-skyfire-std-us/01/6/8/200034136/675271004.mp4?filename=Eyes+Wide+Shut+-+Feature+Trailer+%2897148%29.mp4', 'i': 55}\n",
      "56 {'imdb_id': 'tt0120663', 'film_title': 'Eyes Wide Shut', 'year': 1999, 'tradd_url': '/eyes-wide-shut', 'link': '/eyes-wide-shut/trailer', 'tags': 'Warner Bros. Pictures|Drama|Mystery|Romance|Tom Cruise|Nicole Kidman|Sydney Pollack|Leelee Sobieski', 'filename': 'eyes-wide-shut_trailer', 'mp4': 'https://vod-progressive.akamaized.net/exp=1614568551~acl=%2A%2F675271034.mp4%2A~hmac=7017bf5e87ed18b2792e43c7980f39811b99e2b1308881cbdc2b0c1709c8534f/vimeo-prod-skyfire-std-us/01/6/8/200034134/675271034.mp4?filename=Eyes+Wide+Shut+-+Trailer+%2897147%29.mp4', 'i': 56}\n",
      "57 {'imdb_id': 'tt1013752', 'film_title': 'Fast & Furious', 'year': 2009, 'tradd_url': '/fast-and-furious-2009', 'link': '/fast-and-furious-2009/trailer', 'tags': 'Universal Pictures|Franchise/Epic/Trilogy|Action|Thriller|Vin Diesel|Paul Walker|Michelle Rodriguez|Jordana Brewster', 'filename': 'fast-and-furious-2009_trailer', 'mp4': 'https://vod-progressive.akamaized.net/exp=1614568566~acl=%2A%2F668320846.mp4%2A~hmac=5168f6ab8456b3cda9f5c6b2f58748c45854a8bd3093a760775bdfc4665cd0c8/vimeo-prod-skyfire-std-us/01/4689/7/198447683/668320846.mp4?filename=Fast+%26+Furious+-+Trailer+%286150%29.mp4', 'i': 57}\n",
      "58 {'imdb_id': 'tt1433108', 'film_title': 'Faster', 'year': 2010, 'tradd_url': '/faster', 'link': '/faster/trailer', 'tags': 'CBS Films|Thriller|Action|Drama|Dwayne Johnson|Maggie Grace|Billy Bob Thornton|Jennifer Carpenter|Carla Gugino|Adewale Akinnuoye-Agbaje|Oliver Jackson-Cohen', 'filename': 'faster_trailer', 'mp4': 'https://vod-progressive.akamaized.net/exp=1614568585~acl=%2A%2F670857020.mp4%2A~hmac=75afe1ef16469006222a6a8c8b2886ebde68b949c83ae1128365673f091c5e40/vimeo-prod-skyfire-std-us/01/4806/7/199031927/670857020.mp4?filename=Faster+-+Trailer+%2828720%29.mp4', 'i': 58}\n",
      "59 {'imdb_id': 'tt1433108', 'film_title': 'Faster', 'year': 2010, 'tradd_url': '/faster', 'link': '/faster/teaser-trailer', 'tags': 'CBS Films|Thriller|Action|Drama|Teaser|Dwayne Johnson|Maggie Grace|Billy Bob Thornton', 'filename': 'faster_teaser-trailer', 'mp4': 'https://vod-progressive.akamaized.net/exp=1614568596~acl=%2A%2F670521108.mp4%2A~hmac=7270a710b1f6d66c8f5c642ba24ca7edde00531104e562254805ebb4a6837c62/vimeo-prod-skyfire-std-us/01/4791/7/198955993/670521108.mp4?filename=Faster+-+Teaser+Trailer+%2824612%29.mp4', 'i': 59}\n",
      "60 {'imdb_id': 'tt2322441', 'film_title': 'Fifty Shades of Grey', 'year': 2015, 'tradd_url': '/fifty-shades-of-grey', 'link': '/fifty-shades-of-grey/trailer', 'tags': 'Focus Features|Book|Drama|Romance|Jamie Dornan|Dakota Johnson', 'filename': 'fifty-shades-of-grey_trailer', 'mp4': 'https://vod-progressive.akamaized.net/exp=1614568608~acl=%2A%2F674932446.mp4%2A~hmac=cfe54aa84669c7408d8d7ace7116e57065fe150cf2efbde216e385707cf84f5e/vimeo-prod-skyfire-std-us/01/4991/7/199956249/674932446.mp4?filename=Fifty+Shades+of+Grey+-+Trailer+%2892829%29.mp4', 'i': 60}\n",
      "61 {'imdb_id': 'tt1082601', 'film_title': 'Fighting', 'year': 2009, 'tradd_url': '/fighting', 'link': '/fighting/trailer', 'tags': 'Rogue Pictures|Drama|Channing Tatum|Terrence Howard|Brian J. White|Luis Guzman|Zulay Henao', 'filename': 'fighting_trailer', 'mp4': 'https://vod-progressive.akamaized.net/exp=1614568630~acl=%2A%2F668371340.mp4%2A~hmac=7a9daa7252ce21374024c30e1374570fd31e2f7ea18c3daa715e2b0880476bc0/vimeo-prod-skyfire-std-us/01/4692/7/198460581/668371340.mp4?filename=Fighting+-+Trailer+%288136%29.mp4', 'i': 61}\n",
      "62 {'imdb_id': 'tt1907668', 'film_title': 'Flight', 'year': 2012, 'tradd_url': '/flight-2012', 'link': '/flight-2012/trailer', 'tags': 'Paramount Pictures|Drama|Denzel Washington|Kelly Reilly|Don Cheadle|Bruce Greenwood|Brian Geraghty|John Goodman|Tamara Tunie', 'filename': 'flight-2012_trailer', 'mp4': 'https://vod-progressive.akamaized.net/exp=1614568654~acl=%2A%2F672787138.mp4%2A~hmac=f9ef93674eb3cfa711875715f02fdaa4f043048d0c4e5faaf21a2976bbbf5347/vimeo-prod-skyfire-std-us/01/4893/7/199465394/672787138.mp4?filename=Flight+-+Trailer+%2857905%29.mp4', 'i': 62}\n",
      "63 {'imdb_id': 'tt2381941', 'film_title': 'Focus', 'year': 2015, 'tradd_url': '/focus-2014', 'link': '/focus-2014/trailer', 'tags': 'Warner Bros. Pictures|Comedy|Crime|Romance|Margot Robbie|Will Smith|Rodrigo Santoro|BD Wong|Gerald McRaney|Robert Taylor|Adrian Martinez|Brennan Brown', 'filename': 'focus-2014_trailer', 'mp4': 'https://vod-progressive.akamaized.net/exp=1614568673~acl=%2A%2F675116552.mp4%2A~hmac=754690980bfd13003354d24f45183a056252e5f1e2d7e793545311ae11d0418b/vimeo-prod-skyfire-std-us/01/4999/7/199999843/675116552.mp4?filename=Focus+-+Trailer+%2895650%29.mp4', 'i': 63}\n",
      "64 {'imdb_id': 'tt0390022', 'film_title': 'Friday Night Lights', 'year': 2004, 'tradd_url': '/friday-night-lights', 'link': '/friday-night-lights/trailer', 'tags': 'Universal Pictures|Sport|Drama|Billy Bob Thornton|Jay Hernandez|Tim McGraw|Lucas Black|Derek Luke|Lee Thompson Young|Connie Britton|Garrett Hedlund', 'filename': 'friday-night-lights_trailer', 'mp4': 'https://vod-progressive.akamaized.net/exp=1614568694~acl=%2A%2F667969977.mp4%2A~hmac=1e808b82f3e7c11052848b8c229a89c0f449f588493ef92d77c916d536f0b9d1/vimeo-prod-skyfire-std-us/01/4673/7/198369655/667969977.mp4?filename=Friday+Night+Lights+-+Trailer+%28495%29.mp4', 'i': 64}\n",
      "65 {'imdb_id': 'tt0492389', 'film_title': 'Furry Vengeance', 'year': 2010, 'tradd_url': '/furry-vengeance', 'link': '/furry-vengeance/trailer', 'tags': 'Summit Entertainment|Comedy|Brendan Fraser|Brooke Shields|Ken Jeong|Matt Prokop', 'filename': 'furry-vengeance_trailer', 'mp4': 'https://vod-progressive.akamaized.net/exp=1614568708~acl=%2A%2F668681616.mp4%2A~hmac=f6bb1eb4c3ca8dba32212e93e2de0bbfb1ea0d1a17de6c8f1a0f4a1f26fda187/vimeo-prod-skyfire-std-us/01/4707/7/198535913/668681616.mp4?filename=Furry+Vengeance+-+Trailer+%2817169%29.mp4', 'i': 65}\n",
      "66 {'imdb_id': 'tt1583421', 'film_title': 'G.I. Joe: Retaliation', 'year': 2013, 'tradd_url': '/gi-joe-2-retaliation', 'link': '/gi-joe-2-retaliation/trailer', 'tags': 'Paramount Pictures|Action|Adventure|Cartoon|Franchise/Epic/Trilogy|Channing Tatum|Ray Park|Dwayne Johnson|Bruce Willis|Elodie Yung|RZA|D.J. Cotrona|Adrianne Palicki|Ray Stevenson|Joseph Mazzello|Walton Goggins|DeRay Davis', 'filename': 'gi-joe-2-retaliation_trailer', 'mp4': 'https://vod-progressive.akamaized.net/exp=1614568723~acl=%2A%2F672485807.mp4%2A~hmac=1ca751b53f4dab09be15b6e20ab6383b0856fa409c9bb68690c632ba1b2e53a8/vimeo-prod-skyfire-std-us/01/4878/7/199394448/672485807.mp4?filename=G.I.+Joe+2%3A+Retaliation+-+Trailer+%2850055%29.mp4', 'i': 66}\n",
      "67 {'imdb_id': 'tt1034032', 'film_title': 'Gamer', 'year': 2009, 'tradd_url': '/gamer', 'link': '/gamer/trailer', 'tags': 'Lionsgate|Foreign / Foreign Language|Action|Drama|Thriller|Gerard Butler|Michael C. Hall|Milo Ventimiglia|Alison Lohman|John Lequizamo|Efren Ramirez|Terry Crews|Kyra Sedgwick|Zoe Bell|Ludacris', 'filename': 'gamer_trailer', 'mp4': 'https://vod-progressive.akamaized.net/exp=1614568740~acl=%2A%2F668463411.mp4%2A~hmac=2260960573df078ca7b344156ca549abd5705303b7cfbe456d71e67ee8dbff75/vimeo-prod-skyfire-std-us/01/4696/7/198483401/668463411.mp4?filename=Gamer+-+Trailer+%2810854%29.mp4', 'i': 67}\n",
      "68 {'imdb_id': 'tt1321870', 'film_title': 'Gangster Squad', 'year': 2013, 'tradd_url': '/the-gangster-squad', 'link': '/the-gangster-squad/feature-trailer', 'tags': 'Warner Bros. Pictures|Crime|Action|Josh Brolin|Ryan Gosling|Nick Nolte|Robert Patrick|Michael PeÃ±a|Giovanni Ribisi|Anthony Mackie|Emma Stone|Sean Penn', 'filename': 'the-gangster-squad_feature-trailer', 'mp4': 'https://vod-progressive.akamaized.net/exp=1614568762~acl=%2A%2F673170958.mp4%2A~hmac=1d3ad6ca1c99596017f2a33cd2d320200da4b024c1aaaff46b6b9c3e78fe25f9/vimeo-prod-skyfire-std-us/01/4911/7/199558128/673170958.mp4?filename=Gangster+Squad+-+Feature+Trailer+%2868264%29.mp4', 'i': 68}\n",
      "69 {'imdb_id': 'tt1321870', 'film_title': 'Gangster Squad', 'year': 2013, 'tradd_url': '/the-gangster-squad', 'link': '/the-gangster-squad/trailer', 'tags': 'Warner Bros. Pictures|Crime|Action|Josh Brolin|Ryan Gosling|Nick Nolte|Robert Patrick|Michael PeÃ±a|Giovanni Ribisi|Anthony Mackie|Emma Stone|Sean Penn', 'filename': 'the-gangster-squad_trailer', 'mp4': 'https://vod-progressive.akamaized.net/exp=1614565364~acl=%2A%2F672718471.mp4%2A~hmac=79d84ae12653a8ac063dadbf5cb0ed35404663a65114ed351593d8d9e35a234c/vimeo-prod-skyfire-std-us/01/4889/7/199449532/672718471.mp4?filename=Gangster+Squad+-+Trailer+%2856490%29.mp4', 'i': 69}\n",
      "70 {'imdb_id': 'tt0821640', 'film_title': 'Ghosts of Girlfriends Past', 'year': 2009, 'tradd_url': '/ghosts-of-girlfriends-past', 'link': '/ghosts-of-girlfriends-past/trailer', 'tags': 'New Line Cinema|Comedy|Matthew McConaughey|Jennifer Garner|Lacey Chabert|Michael Douglas|Emma Stone|Anne Archer|Robert Forster', 'filename': 'ghosts-of-girlfriends-past_trailer', 'mp4': 'https://vod-progressive.akamaized.net/exp=1614557998~acl=%2Fvimeo-prod-skyfire-std-us%2F01%2F4692%2F7%2F198463453%2F668382973.mp4~hmac=ba257b4fe5993cafbb42a2e7f3025410ffb1097ebd39a22cfaff7e6679689c33/vimeo-prod-skyfire-std-us/01/4692/7/198463453/668382973.mp4?filename=Ghosts+of+Girlfriends+Past+-+Trailer+%288554%29.mp4', 'i': 70}\n",
      "71 {'imdb_id': 'tt2267998', 'film_title': 'Gone Girl', 'year': 2014, 'tradd_url': '/gone-girl', 'link': '/gone-girl/trailer', 'tags': '20th Century Fox|Drama|Thriller|Book|Ben Affleck|Rosamund Pike|Missi Pyle|Tyler Perry|Kim Dickens|Patrick Fugit|Sela Ward|Kathleen Rose Perkins', 'filename': 'gone-girl_trailer', 'mp4': 'https://vod-progressive.akamaized.net/exp=1614568820~acl=%2A%2F674713166.mp4%2A~hmac=bb39501a21ce820750c6f085603bdb5f902dd8c0598aade102d8f10a2b509ec4/vimeo-prod-skyfire-std-us/01/4981/7/199905448/674713166.mp4?filename=Gone+Girl+-+Trailer+%2889288%29.mp4', 'i': 71}\n",
      "72 {'imdb_id': 'tt2191701', 'film_title': 'Grown Ups 2', 'year': 2013, 'tradd_url': '/grown-ups-2', 'link': '/grown-ups-2/trailer', 'tags': \"Sony Pictures|Comedy|Franchise/Epic/Trilogy|Adam Sandler|Kevin James|Chris Rock|David Spade|Salma Hayek|Maya Rudolph|Maria Bello|Nick Swardson|Taylor Lautner|Milo Ventimiglia|Andy Samberg|Will Forte|Shaquille O'Neal\", 'filename': 'grown-ups-2_trailer', 'mp4': 'https://vod-progressive.akamaized.net/exp=1614568834~acl=%2A%2F673437877.mp4%2A~hmac=4dd877e0088aba992c9a0bf189e2648d6ffcb04f06b49b444c81832c320af9ef/vimeo-prod-skyfire-std-us/01/4924/7/199620715/673437877.mp4?filename=Grown+Ups+2+-+Trailer+%2872419%29.mp4', 'i': 72}\n",
      "73 {'imdb_id': 'tt2015381', 'film_title': 'Guardians of the Galaxy', 'year': 2014, 'tradd_url': '/guardians-of-the-galaxy', 'link': '/guardians-of-the-galaxy/teaser-trailer', 'tags': 'Marvel Studios|Walt Disney Pictures|Comicbook|Action|Adventure|Sci Fi|Teaser|Chris Pratt|Dave Bautista|ZoÃ« SaldaÃ±a|Michael Rooker|Ophelia Lovibond|Lee Pace|Glenn Close|Karen Gillan|Benicio Del Toro|John C. Reilly|Djimon Hounsou', 'filename': 'guardians-of-the-galaxy_teaser-trailer', 'mp4': 'https://vod-progressive.akamaized.net/exp=1614568863~acl=%2A%2F674706795.mp4%2A~hmac=c501a7d55cb0fe52b2ec3e97f93fd4fe139449ea1eb73ec0825197ab2c6177d3/vimeo-prod-skyfire-std-us/01/4980/7/199903990/674706795.mp4?filename=Guardians+of+the+Galaxy+-+Teaser+Trailer+%2889213%29.mp4', 'i': 73}\n",
      "74 {'imdb_id': 'tt2015381', 'film_title': 'Guardians of the Galaxy', 'year': 2014, 'tradd_url': '/guardians-of-the-galaxy', 'link': '/guardians-of-the-galaxy/trailer', 'tags': 'Marvel Studios|Walt Disney Pictures|Comicbook|Action|Adventure|Sci Fi|Chris Pratt|Dave Bautista|ZoÃ« SaldaÃ±a|Michael Rooker|Ophelia Lovibond|Lee Pace|Glenn Close|Karen Gillan|Benicio Del Toro|John C. Reilly|Djimon Hounsou', 'filename': 'guardians-of-the-galaxy_trailer', 'mp4': 'https://vod-progressive.akamaized.net/exp=1614568873~acl=%2A%2F674469248.mp4%2A~hmac=fb1e1af32960e28d4d5870a5256e3d3eb6daeea72348dd2c90d2daa9350a973d/vimeo-prod-skyfire-std-us/01/4970/7/199851660/674469248.mp4?filename=Guardians+of+the+Galaxy+-+Trailer+%2886922%29.mp4', 'i': 74}\n",
      "75 {'imdb_id': 'tt0481536', 'film_title': 'Harold & Kumar Escape from Guantanamo Bay', 'year': 2008, 'tradd_url': '/harold-kumar-guantanamo', 'link': '/harold-kumar-guantanamo/trailer', 'tags': 'New Line Cinema|Comedy|John Cho|Kal Penn|Rob Corddry|Neil Patrick Harris', 'filename': 'harold-kumar-guantanamo_trailer', 'mp4': 'https://vod-progressive.akamaized.net/exp=1614568836~acl=%2A%2F668230665.mp4%2A~hmac=3f14ce6e382c962e7b7da6f460f984fc44b651f1cee773c0566cff6d1caf9cb6/vimeo-prod-skyfire-std-us/01/4685/7/198426135/668230665.mp4?filename=Harold+%26+Kumar+Escape+from+Guantanamo+Bay+-+Trailer+%283122%29.mp4', 'i': 75}\n",
      "76 {'imdb_id': 'tt0481536', 'film_title': 'Harold & Kumar Escape from Guantanamo Bay', 'year': 2008, 'tradd_url': '/harold-kumar-guantanamo', 'link': '/harold-kumar-guantanamo/teaser-trailer', 'tags': 'New Line Cinema|Comedy|Teaser|John Cho|Kal Penn|Rob Corddry|Neil Patrick Harris', 'filename': 'harold-kumar-guantanamo_teaser-trailer', 'mp4': 'https://vod-progressive.akamaized.net/exp=1614568906~acl=%2A%2F668200595.mp4%2A~hmac=1a8ac26f9138c96c96a9d13e7ee5a46ed1e8d8618c85788e3a13951d5c0ec442/vimeo-prod-skyfire-std-us/01/4683/7/198419310/668200595.mp4?filename=Harold+%26+Kumar+Escape+from+Guantanamo+Bay+-+Teaser+Trailer+%282481%29.mp4', 'i': 76}\n",
      "77 {'imdb_id': 'tt0366551', 'film_title': 'Harold & Kumar Go to White Castle', 'year': 2004, 'tradd_url': '/harold-kumar', 'link': '/harold-kumar/trailer', 'tags': 'New Line Cinema|Comedy|Kal Penn|John Cho|Neil Patrick Harris|Malin Akerman|Paula GarcÃ©s|Ryan Reynolds|Anthony Anderson', 'filename': 'harold-kumar_trailer', 'mp4': 'https://vod-progressive.akamaized.net/exp=1614568919~acl=%2A%2F668200244.mp4%2A~hmac=edf990d17552bb357ca2506c912d23290a037d3546ced4d9b3514464d5f55920/vimeo-prod-skyfire-std-us/01/4683/7/198419222/668200244.mp4?filename=Harold+%26+Kumar+Go+to+White+Castle+-+Trailer+%282477%29.mp4', 'i': 77}\n",
      "78 {'imdb_id': 'tt1201607', 'film_title': 'Harry Potter and the Deathly Hallows: Part 2', 'year': 2011, 'tradd_url': '/harry-potter-and-deathly-hallows-part-ii', 'link': '/harry-potter-and-deathly-hallows-part-ii/feature-trailer', 'tags': 'Warner Bros. Pictures|Adventure|Drama|Fantasy|Mystery|Franchise/Epic/Trilogy|Book|Romance|Daniel Radcliffe|Rupert Grint|Emma Watson|John Hurt|Ralph Fiennes|Alan Rickman|Helen McCrory|Bonnie Wright|Natalia Tena|Helena Bonham Carter', 'filename': 'harry-potter-and-deathly-hallows-part-ii_feature-trailer', 'mp4': 'https://vod-progressive.akamaized.net/exp=1614568929~acl=%2A%2F671885395.mp4%2A~hmac=cd467cb3afbf4bf5a26417b95e088b998778fea0e852f829a2a5c600469fa536/vimeo-prod-skyfire-std-us/01/4852/7/199260296/671885395.mp4?filename=Harry+Potter+and+the+Deathly+Hallows+Part+II+-+Feature+Trailer+%2841340%29.mp4', 'i': 78}\n",
      "79 {'imdb_id': 'tt0330373', 'film_title': 'Harry Potter and the Goblet of Fire', 'year': 2005, 'tradd_url': '/harry-potter-goblet-fire', 'link': '/harry-potter-goblet-fire/trailer', 'tags': 'Warner Bros. Pictures|Franchise/Epic/Trilogy|Book|Adventure|Fantasy|Daniel Radcliffe|Rupert Grint|Emma Watson|Michael Gambon|Stanislav Ianevski|Robert Pattinson|ClÃ©mence PoÃ©sy|Katie Leung|Maggie Smith|Brendan Gleeson|Alan Rickman|Timothy Spall|Miranda Richardson|Ralph Fiennes', 'filename': 'harry-potter-goblet-fire_trailer', 'mp4': 'https://vod-progressive.akamaized.net/exp=1614568943~acl=%2A%2F668321703.mp4%2A~hmac=60c4a16db8098ad22639e101639e36b7cd91e70dee961763e13a851b4a8f6d36/vimeo-prod-skyfire-std-us/01/4689/7/198447899/668321703.mp4?filename=Harry+Potter+and+the+Goblet+of+Fire+-+Trailer+%286189%29.mp4', 'i': 79}\n",
      "80 {'imdb_id': 'tt0373889', 'film_title': 'Harry Potter and the Order of the Phoenix', 'year': 2007, 'tradd_url': '/harry-potter-order-phoenix', 'link': '/harry-potter-order-phoenix/teaser-trailer', 'tags': 'Teaser|Warner Bros. Pictures|Fantasy|Book|Adventure|Gary Oldman|Daniel Radcliffe|Rupert Grint|Emma Watson|Alan Rickman', 'filename': 'harry-potter-order-phoenix_teaser-trailer', 'mp4': 'https://vod-progressive.akamaized.net/exp=1614568958~acl=%2A%2F667675000.mp4%2A~hmac=3197e094f23f4acd33b1b7995dbe31dbd9941630100d894d56d7e9b96b530b1b/vimeo-prod-skyfire-std-us/01/4660/7/198302061/667675000.mp4?filename=Harry+Potter+and+the+Order+of+the+Phoenix+-+Teaser+Trailer+%2812%29.mp4', 'i': 80}\n",
      "81 {'imdb_id': 'tt0373889', 'film_title': 'Harry Potter and the Order of the Phoenix', 'year': 2007, 'tradd_url': '/harry-potter-order-phoenix', 'link': '/harry-potter-order-phoenix/trailer-a', 'tags': 'Book|Warner Bros. Pictures|Daniel Radcliffe|Fantasy|Adventure|Gary Oldman|Ralph Fiennes|Helena Bonham Carter|Rupert Grint|Emma Watson|Alan Rickman|Michael Gambon', 'filename': 'harry-potter-order-phoenix_trailer-a', 'mp4': 'https://vod-progressive.akamaized.net/exp=1614568968~acl=%2A%2F667675065.mp4%2A~hmac=9ee2e7b41e54b1a6f2c7849493a4dbed8224efa221ab14a455d81dcc76acc723/vimeo-prod-skyfire-std-us/01/4660/7/198302062/667675065.mp4?filename=Harry+Potter+and+the+Order+of+the+Phoenix+-+Trailer+%2813%29.mp4', 'i': 81}\n",
      "82 {'imdb_id': 'tt0411477', 'film_title': 'Hellboy II: The Golden Army', 'year': 2008, 'tradd_url': '/hellboy-ii-golden-army', 'link': '/hellboy-ii-golden-army/trailer', 'tags': 'Universal Pictures|Franchise/Epic/Trilogy|Action|Adventure|Fantasy|Comicbook|Ron Perlman|Selma Blair|Luke Goss', 'filename': 'hellboy-ii-golden-army_trailer', 'mp4': 'https://vod-progressive.akamaized.net/exp=1614568993~acl=%2A%2F668229103.mp4%2A~hmac=d39592975f4c9fc59c89ebe577aa75fcf68946f8ada70adbc643d0e6cb0297e1/vimeo-prod-skyfire-std-us/01/4685/7/198425779/668229103.mp4?filename=Hellboy+II%3A+The+Golden+Army+-+Trailer+%283079%29.mp4', 'i': 82}\n",
      "83 {'imdb_id': 'tt1267297', 'film_title': 'Hercules', 'year': 2014, 'tradd_url': '/hercules-2014', 'link': '/hercules-2014/feature-trailer', 'tags': 'Metro Goldwyn Mayer (MGM)|Paramount Pictures|Action|Adventure|Fantasy|Dwayne Johnson|Ian Mcshane|Joseph Fiennes|John Hurt|Rufus Sewell|Peter Mullan|Ingrid BolsÃ¸ Berdal|Aksel Hennie|Reece Ritchie', 'filename': 'hercules-2014_feature-trailer', 'mp4': 'https://vod-progressive.akamaized.net/exp=1614569008~acl=%2A%2F674850824.mp4%2A~hmac=417c792f06d0f3521f5b166c3ddd361f735bf360be93aace991ec1e4cedf60a1/vimeo-prod-skyfire-std-us/01/4987/7/199936630/674850824.mp4?filename=Hercules+-+Feature+Trailer+%2891231%29.mp4', 'i': 83}\n",
      "84 {'imdb_id': 'tt2637294', 'film_title': 'Hot Tub Time Machine 2', 'year': 2015, 'tradd_url': '/hot-tub-time-machine-2', 'link': '/hot-tub-time-machine-2/feature-trailer', 'tags': 'Metro Goldwyn Mayer (MGM)|Comedy|Sci Fi|Adventure|Rob Corddry|Craig Robinson|Clark Duke|Adam Scott|Chevy Chase|Collette Wolfe|Gillian Jacobs', 'filename': 'hot-tub-time-machine-2_feature-trailer', 'mp4': 'https://vod-progressive.akamaized.net/exp=1614569033~acl=%2A%2F675443243.mp4%2A~hmac=95eec58dd72bfac2d7ab2caca9e3f5a2acc9f9734e419eb6c619e146c3c77508/vimeo-prod-skyfire-std-us/01/14/8/200072170/675443243.mp4?filename=Hot+Tub+Time+Machine+2+-+Feature+Trailer+%2898833%29.mp4', 'i': 84}\n",
      "85 {'imdb_id': 'tt1155056', 'film_title': 'I Love You, Man', 'year': 2009, 'tradd_url': '/i-love-you-man', 'link': '/i-love-you-man/trailer', 'tags': 'DreamWorks Pictures|Comedy|Paul Rudd|Jason Segel|Jaime Pressly|Rashida Jones|Andy Samberg|J.K. Simmons|Thomas Lennon|South by Southwest Film Festival', 'filename': 'i-love-you-man_trailer', 'mp4': 'https://vod-progressive.akamaized.net/exp=1614569051~acl=%2A%2F668364059.mp4%2A~hmac=adf742b4acf010f37bd6825dd02dec6fbfcbbff77979b4239a8d52d1ac854f82/vimeo-prod-skyfire-std-us/01/4691/7/198458784/668364059.mp4?filename=I+Love+You%2C+Man+-+Trailer+%287872%29.mp4', 'i': 85}\n",
      "86 {'imdb_id': 'tt1355630', 'film_title': 'If I Stay', 'year': 2014, 'tradd_url': '/if-i-stay', 'link': '/if-i-stay/feature-trailer', 'tags': 'Warner Bros. Pictures|Metro Goldwyn Mayer (MGM)|Book|Drama|ChloÃ« Grace Moretz|Mireille Enos|Jamie Blackley|Stacy Keach|Joshua Leonard', 'filename': 'if-i-stay_feature-trailer', 'mp4': 'https://vod-progressive.akamaized.net/exp=1614558276~acl=%2Fvimeo-prod-skyfire-std-us%2F01%2F4991%2F7%2F199955383%2F674929009.mp4~hmac=89f493751cc23344c80fa20ae8258b7ccafc44b75b042dcc9330d09b14257110/vimeo-prod-skyfire-std-us/01/4991/7/199955383/674929009.mp4?filename=If+I+Stay+-+Feature+Trailer+%2892767%29.mp4', 'i': 86}\n",
      "87 {'imdb_id': 'tt1355630', 'film_title': 'If I Stay', 'year': 2014, 'tradd_url': '/if-i-stay', 'link': '/if-i-stay/trailer', 'tags': 'Warner Bros. Pictures|Metro Goldwyn Mayer (MGM)|Drama|ChloÃ« Grace Moretz|Mireille Enos|Jamie Blackley', 'filename': 'if-i-stay_trailer', 'mp4': 'https://vod-progressive.akamaized.net/exp=1614569096~acl=%2A%2F674719763.mp4%2A~hmac=1cd8bdbdd81cffaeae2982ccd3d4d255532ef2efcc01d2bddbcdb22db8cf0def/vimeo-prod-skyfire-std-us/01/4981/7/199906909/674719763.mp4?filename=If+I+Stay+-+Trailer+%2889355%29.mp4', 'i': 87}\n",
      "88 {'imdb_id': 'tt0780567', 'film_title': 'Imagine That', 'year': 2009, 'tradd_url': '/imagine-that', 'link': '/imagine-that/trailer', 'tags': 'Paramount Pictures|Comedy|Fantasy|Eddie Murphy|Yara Shahidi|Ronny Cox|Thomas Haden Church|Nicole Ari Parker', 'filename': 'imagine-that_trailer', 'mp4': 'https://vod-progressive.akamaized.net/exp=1614569113~acl=%2A%2F668374308.mp4%2A~hmac=003c1e4c6450b0265b17f453e9f40aabe848d403fed3827dc6cc24e4908e07ea/vimeo-prod-skyfire-std-us/01/4692/7/198461316/668374308.mp4?filename=Imagine+That+-+Trailer+%288246%29.mp4', 'i': 88}\n",
      "89 {'imdb_id': 'tt1637688', 'film_title': 'In Time', 'year': 2011, 'tradd_url': '/in-time', 'link': '/in-time/trailer', 'tags': '20th Century Fox|Sci Fi|Thriller|Justin Timberlake|Amanda Seyfried|Cillian Murphy|Vincent Kartheiser|Alex Pettyfer|Johnny Galecki|Olivia Wilde|Matt Bomer', 'filename': 'in-time_trailer', 'mp4': 'https://vod-progressive.akamaized.net/exp=1614569139~acl=%2A%2F671975968.mp4%2A~hmac=8ac4f7fb069e01e60f097d343c28659542beac245edbc700a52def15942ea43c/vimeo-prod-skyfire-std-us/01/4856/7/199281588/671975968.mp4?filename=In+Time+-+Trailer+%2843430%29.mp4', 'i': 89}\n",
      "90 {'imdb_id': 'tt1791528', 'film_title': 'Inherent Vice', 'year': 2015, 'tradd_url': '/inherent-vice', 'link': '/inherent-vice/trailer', 'tags': 'Warner Bros. Pictures|Crime|Mystery|Book|Joaquin Phoenix|Josh Brolin|Owen Wilson|Katherine Waterston|Reese Witherspoon|Benicio Del Toro|Martin Short|Jena Malone|Joanna Newsom|Michael K. Williams', 'filename': 'inherent-vice_trailer', 'mp4': 'https://vod-progressive.akamaized.net/exp=1614569158~acl=%2A%2F675079019.mp4%2A~hmac=691b3dab2eaf588bf908372b9ea5beab10d7b7a085f0d38424f6791da900635c/vimeo-prod-skyfire-std-us/01/4998/7/199990650/675079019.mp4?filename=Inherent+Vice+-+Trailer+%2895204%29.mp4', 'i': 90}\n",
      "91 {'imdb_id': 'tt2096673', 'film_title': 'Inside Out', 'year': 2015, 'tradd_url': '/inside-out-2015', 'link': '/inside-out-2015/teaser-trailer', 'tags': 'Walt Disney Pictures|Pixar Animation|Family|CG Animation|Teaser|Amy Poehler|Mindy Kaling|Bill Hader|Phyllis Smith|Lewis Black', 'filename': 'inside-out-2015_teaser-trailer', 'mp4': 'https://vod-progressive.akamaized.net/exp=1614569187~acl=%2A%2F675087538.mp4%2A~hmac=c8e5b389463650b35cc9a79b92a8aa9f22455bbb86379df9e8b269acd28240e0/vimeo-prod-skyfire-std-us/01/4998/7/199992628/675087538.mp4?filename=Inside+Out+-+Teaser+Trailer+%2895312%29.mp4', 'i': 91}\n",
      "92 {'imdb_id': 'tt0371746', 'film_title': 'Iron Man', 'year': 2008, 'tradd_url': '/iron-man', 'link': '/iron-man/trailer', 'tags': 'Robert Downey, Jr.|Comicbook|Action|Marvel Studios|Paramount Pictures|Terrence Howard|Gwyneth Paltrow|Jeff Bridges', 'filename': 'iron-man_trailer', 'mp4': 'https://vod-progressive.akamaized.net/exp=1614569207~acl=%2A%2F668258302.mp4%2A~hmac=12ca32ee2e67b802d17c341ad127976a3467a6bf49caeb53ef2d88679478c6a4/vimeo-prod-skyfire-std-us/01/4686/7/198432496/668258302.mp4?filename=Iron+Man+-+Trailer+%283899%29.mp4', 'i': 92}\n",
      "93 {'imdb_id': 'tt0371746', 'film_title': 'Iron Man', 'year': 2008, 'tradd_url': '/iron-man', 'link': '/iron-man/teaser-trailer', 'tags': 'Teaser|Paramount Pictures|Marvel Studios|Action|Comicbook|Robert Downey, Jr.|Terrence Howard|Gwyneth Paltrow|Jeff Bridges', 'filename': 'iron-man_teaser-trailer', 'mp4': 'https://vod-progressive.akamaized.net/exp=1614569233~acl=%2A%2F667887411.mp4%2A~hmac=755c48bb021e08ac57306967df0475a5bafe7a4695ff81af3b66829cdf072c80/vimeo-prod-skyfire-std-us/01/4670/7/198351701/667887411.mp4?filename=Iron+Man+-+Teaser+Trailer+%28362%29.mp4', 'i': 93}\n",
      "94 {'imdb_id': 'tt1228705', 'film_title': 'Iron Man 2', 'year': 2010, 'tradd_url': '/iron-man-2', 'link': '/iron-man-2/feature-trailer', 'tags': 'Comicbook|Action|Marvel Studios|Paramount Pictures|Franchise/Epic/Trilogy|Gwyneth Paltrow|Don Cheadle|Mickey Rourke|Sam Rockwell|Samuel L. Jackson|Scarlett Johansson|Garry Shandling|Robert Downey, Jr.', 'filename': 'iron-man-2_feature-trailer', 'mp4': 'https://vod-progressive.akamaized.net/exp=1614569253~acl=%2A%2F668735589.mp4%2A~hmac=107a1e5137a42bb86c1c78404a55ec6c110acdb0e6d99ad3cad67bf739ca2967/vimeo-prod-skyfire-std-us/01/4709/7/198549625/668735589.mp4?filename=Iron+Man+2+-+Feature+Trailer+%2819379%29.mp4', 'i': 94}\n",
      "95 {'imdb_id': 'tt1228705', 'film_title': 'Iron Man 2', 'year': 2010, 'tradd_url': '/iron-man-2', 'link': '/iron-man-2/trailer', 'tags': 'Comicbook|Action|Marvel Studios|Paramount Pictures|Franchise/Epic/Trilogy|Gwyneth Paltrow|Don Cheadle|Mickey Rourke|Sam Rockwell|Samuel L. Jackson|Scarlett Johansson|Garry Shandling|Robert Downey, Jr.', 'filename': 'iron-man-2_trailer', 'mp4': 'https://vod-progressive.akamaized.net/exp=1614569271~acl=%2A%2F668678059.mp4%2A~hmac=8aaaf6e01e1512deadb51df51eac7e6a7889ce511e6d120721df208ad906386e/vimeo-prod-skyfire-std-us/01/4706/7/198534983/668678059.mp4?filename=Iron+Man+2+-+Trailer+%2817044%29.mp4', 'i': 95}\n",
      "96 {'imdb_id': 'tt1351685', 'film_title': 'Jack the Giant Slayer', 'year': 2013, 'tradd_url': '/jack-the-giant-killer', 'link': '/jack-the-giant-killer/feature-trailer', 'tags': 'New Line Cinema|Warner Bros. Pictures|Book|Fantasy|Action|Adventure|Nicholas Hoult|Eleanor Tomlinson|Stanley Tucci|Ewan McGregor|Ian Mcshane|Raine McCormack|Eddie Marson|Ewen Bremner', 'filename': 'jack-the-giant-killer_feature-trailer', 'mp4': 'https://vod-progressive.akamaized.net/exp=1614569288~acl=%2A%2F673080324.mp4%2A~hmac=684aec005ac3c325946b86cf7cb9925a83f64f697da01f294bf1e2b330b2b23e/vimeo-prod-skyfire-std-us/01/4907/7/199535860/673080324.mp4?filename=Jack+the+Giant+Slayer+-+Feature+Trailer+%2866240%29.mp4', 'i': 96}\n",
      "97 {'imdb_id': 'tt2357129', 'film_title': 'Jobs', 'year': 2013, 'tradd_url': '/jobs', 'link': '/jobs/feature-trailer', 'tags': 'Open Road Films|Biopic|Drama|Ashton Kutcher|Dermot Mulroney|Josh Gad|Lukas Haas|J.K. Simmons|Matthew Modine', 'filename': 'jobs_feature-trailer', 'mp4': 'https://vod-progressive.akamaized.net/exp=1614569305~acl=%2A%2F673901748.mp4%2A~hmac=5aa7e1b76afaecd17af397dfe04a05a2879a775cb61da05d53b437adbf3853ee/vimeo-prod-skyfire-std-us/01/4944/7/199724618/673901748.mp4?filename=jOBS+-+Feature+Trailer+%2878470%29.mp4', 'i': 97}\n",
      "98 {'imdb_id': 'tt1250777', 'film_title': 'Kick-Ass', 'year': 2010, 'tradd_url': '/kick-ass', 'link': '/kick-ass/trailer', 'tags': 'Lionsgate|Teaser|Action|Comedy|Drama|Aaron Taylor-Johnson|Christopher Mintz-Plasse|ChloÃ« Grace Moretz|Clark Duke|Nicolas Cage|Mark Strong|Comicbook|South by Southwest Film Festival', 'filename': 'kick-ass_trailer', 'mp4': 'https://vod-progressive.akamaized.net/exp=1614569322~acl=%2A%2F668686826.mp4%2A~hmac=458a8b1f197e6503db18befeb1089cdb3fb5f37058e3fd35433719d17bd2d087/vimeo-prod-skyfire-std-us/01/4707/7/198537218/668686826.mp4?filename=Kick-Ass+-+Trailer+%2817419%29.mp4', 'i': 98}\n",
      "99 {'imdb_id': 'tt1448755', 'film_title': 'Killer Elite', 'year': 2011, 'tradd_url': '/killer-elite', 'link': '/killer-elite/feature-trailer', 'tags': 'Action|Thriller|Jason Statham|Clive Owen|Robert De Niro|Yvonne Strahovski|Adewale Akinnuoye-Agbaje', 'filename': 'killer-elite_feature-trailer', 'mp4': 'https://vod-progressive.akamaized.net/exp=1614569345~acl=%2A%2F671975747.mp4%2A~hmac=3ad0a41c53cd56224d6eb6ad22fadff52d3433850df2db45c26225ff9644d37b/vimeo-prod-skyfire-std-us/01/4856/7/199281522/671975747.mp4?filename=Killer+Elite+-+Feature+Trailer+%2843429%29.mp4', 'i': 99}\n",
      "100 {'imdb_id': 'tt1448755', 'film_title': 'Killer Elite', 'year': 2011, 'tradd_url': '/killer-elite', 'link': '/killer-elite/trailer', 'tags': 'Action|Thriller|Jason Statham|Clive Owen|Robert De Niro|Yvonne Strahovski|Adewale Akinnuoye-Agbaje', 'filename': 'killer-elite_trailer', 'mp4': 'https://vod-progressive.akamaized.net/exp=1614569362~acl=%2A%2F671898788.mp4%2A~hmac=da30b34e7922dbde0373028432a402fe6d46b71e919b6918b82073fe402d0ee1/vimeo-prod-skyfire-std-us/01/4852/7/199263393/671898788.mp4?filename=Killer+Elite+-+Trailer+%2841621%29.mp4', 'i': 100}\n",
      "101 {'imdb_id': 'tt1013743', 'film_title': 'Knight and Day', 'year': 2010, 'tradd_url': '/knight-day', 'link': '/knight-day/feature-trailer', 'tags': '20th Century Fox|Action|Comedy|Tom Cruise|Cameron Diaz|Peter Sarsgaard|Marc Blucas|Viola Davis', 'filename': 'knight-day_feature-trailer', 'mp4': 'https://vod-progressive.akamaized.net/exp=1614569374~acl=%2A%2F668761343.mp4%2A~hmac=18f99e3b775544fdd87a18e870fafcc80e570d18c9090068e481f16aa6110ff1/vimeo-prod-skyfire-std-us/01/4711/7/198555971/668761343.mp4?filename=Knight+and+Day+-+Feature+Trailer+%2820231%29.mp4', 'i': 101}\n",
      "102 {'imdb_id': 'tt0758752', 'film_title': 'Love & Other Drugs', 'year': 2010, 'tradd_url': '/love-and-other-drugs', 'link': '/love-and-other-drugs/trailer', 'tags': '20th Century Fox|Drama|Judy Greer|Jake Gyllenhaal|Anne Hathaway|Gabriel Macht|Hank Azaria|Oliver Platt', 'filename': 'love-and-other-drugs_trailer', 'mp4': 'https://vod-progressive.akamaized.net/exp=1614569391~acl=%2A%2F670613716.mp4%2A~hmac=7a5f6d5544fc738d03b2ea5cd74af0826bca2925bcc4ebfaf47c7821c49fe664/vimeo-prod-skyfire-std-us/01/4795/7/198977450/670613716.mp4?filename=Love+and+Other+Drugs+-+Trailer+%2825949%29.mp4', 'i': 102}\n",
      "103 {'imdb_id': 'tt1277953', 'film_title': \"Madagascar 3: Europe's Most Wanted\", 'year': 2012, 'tradd_url': '/madagascar-3', 'link': '/madagascar-3/feature-trailer', 'tags': 'Dreamworks Animation|CG Animation|Adventure|Comedy|Family|Franchise/Epic/Trilogy|Ben Stiller|Chris Rock|David Schwimmer|Jada Pinkett Smith|Sacha Baron Cohen', 'filename': 'madagascar-3_feature-trailer', 'mp4': 'https://vod-progressive.akamaized.net/exp=1614569408~acl=%2A%2F672650704.mp4%2A~hmac=e809a2e7604e1a6dbfc0a063560cb996ddd1abd97ca643329349932913b6964e/vimeo-prod-skyfire-std-us/01/4886/7/199432940/672650704.mp4?filename=Madagascar+3%3A+Europe%27s+Most+Wanted+-+Feature+Trailer+%2854406%29.mp4', 'i': 103}\n",
      "104 {'imdb_id': 'tt0175880', 'film_title': 'Magnolia', 'year': 2000, 'tradd_url': '/magnolia', 'link': '/magnolia/trailer', 'tags': 'New Line Cinema|Drama|Jeremy Blackman|Michael Bowen|Tom Cruise|Melinda Dillon|Henry Gibson|April Grace|Philip Baker Hall|Philip Seymour Hoffman|William H. Macy|Julianne Moore|John C. Reilly|Jason Robards|Melora Walters', 'filename': 'magnolia_trailer', 'mp4': 'https://vod-progressive.akamaized.net/exp=1614569440~acl=%2A%2F668684357.mp4%2A~hmac=51c7ba18aeb0c3ccd1c5e34952bd9b1ba72723b3c3ce71818e6eebfca9b3b655/vimeo-prod-skyfire-std-us/01/4707/7/198536590/668684357.mp4?filename=Magnolia+-+Trailer+%2817303%29.mp4', 'i': 104}\n",
      "105 {'imdb_id': 'tt0175880', 'film_title': 'Magnolia', 'year': 2000, 'tradd_url': '/magnolia', 'link': '/magnolia/teaser-trailer', 'tags': 'New Line Cinema|Drama|Teaser|Jeremy Blackman|Tom Cruise|Henry Gibson|April Grace|Philip Baker Hall|Philip Seymour Hoffman|William H. Macy|Julianne Moore|John C. Reilly|Jason Robards|Melora Walters', 'filename': 'magnolia_teaser-trailer', 'mp4': 'https://vod-progressive.akamaized.net/exp=1614569454~acl=%2A%2F668684370.mp4%2A~hmac=d01b5a793b2eba7a9a3e13b3a1c8333028dd5f529b4b957329806a503e0a4531/vimeo-prod-skyfire-std-us/01/4707/7/198536587/668684370.mp4?filename=Magnolia+-+Teaser+Trailer+%2817302%29.mp4', 'i': 105}\n",
      "106 {'imdb_id': 'tt0770828', 'film_title': 'Man of Steel', 'year': 2013, 'tradd_url': '/man-of-steel', 'link': '/man-of-steel/teaser-trailer', 'tags': 'Warner Bros. Pictures|Action|Adventure|Behind the Scenes|Comicbook|Fantasy|Franchise/Epic/Trilogy|Henry Cavill|Teaser', 'filename': 'man-of-steel_teaser-trailer', 'mp4': 'https://vod-progressive.akamaized.net/exp=1614569467~acl=%2A%2F672862920.mp4%2A~hmac=ade8e8ec03335ed51b7a27a8d5f40be5f3c13db58ba7b8bf69e4c955faa8a488/vimeo-prod-skyfire-std-us/01/4896/7/199483414/672862920.mp4?filename=Man+of+Steel+-+Teaser+Trailer+%2859536%29.mp4', 'i': 106}\n",
      "107 {'imdb_id': 'tt0822832', 'film_title': 'Marley & Me', 'year': 2008, 'tradd_url': '/marley-me', 'link': '/marley-me/trailer', 'tags': '20th Century Fox|Comedy|Family|Teaser|Owen Wilson|Jennifer Aniston|Alan Arkin|Eric Dane', 'filename': 'marley-me_trailer', 'mp4': 'https://vod-progressive.akamaized.net/exp=1614569480~acl=%2A%2F668340717.mp4%2A~hmac=97d8d4a049140c02aef95908a13b70d50e685c18173ccc1205572a07ec038d3a/vimeo-prod-skyfire-std-us/01/4690/7/198452818/668340717.mp4?filename=Marley+%26+Me+-+Trailer+%286940%29.mp4', 'i': 107}\n",
      "108 {'imdb_id': 'tt0822832', 'film_title': 'Marley & Me', 'year': 2008, 'tradd_url': '/marley-me', 'link': '/marley-me/teaser-trailer', 'tags': '20th Century Fox|Comedy|Family|Teaser|Owen Wilson|Jennifer Aniston', 'filename': 'marley-me_teaser-trailer', 'mp4': 'https://vod-progressive.akamaized.net/exp=1614569505~acl=%2A%2F668292635.mp4%2A~hmac=dc0f718c41cc9cbaea5a4853823d0d6327a509b0115ffd6d984cac18ea9c49a4/vimeo-prod-skyfire-std-us/01/4688/7/198440692/668292635.mp4?filename=Marley+%26+Me+-+Teaser+Trailer+%285049%29.mp4', 'i': 108}\n",
      "109 {'imdb_id': 'tt2097298', 'film_title': 'McFarland, USA', 'year': 2015, 'tradd_url': '/mcfarland-usa', 'link': '/mcfarland-usa/trailer', 'tags': 'Walt Disney Pictures|Drama|Sport|Kevin Costner|Maria Bello|Morgan Saylor|Martha Higareda|Michael Aguero|Sergio Avelar|Hector Duran|Rafael Martinez|Johnny Ortiz|Carlos Pratts|Ramiro Rodriguez|Danny Mora|Valente Rodriguez|Vanessa Martinez|Chris Ellis', 'filename': 'mcfarland-usa_trailer', 'mp4': 'https://vod-progressive.akamaized.net/exp=1614569516~acl=%2A%2F675205530.mp4%2A~hmac=1f490d461f56a90d36e3e9c8d6eba34a504d1ddef596d3f4fa42fa443e02abbc/vimeo-prod-skyfire-std-us/01/3/8/200019867/675205530.mp4?filename=McFarland+USA+-+Trailer+%2896545%29.mp4', 'i': 109}\n",
      "110 {'imdb_id': 'tt0139462', 'film_title': 'Message in a Bottle', 'year': 1999, 'tradd_url': '/message-in-a-bottle', 'link': '/message-in-a-bottle/trailer', 'tags': 'Warner Bros. Pictures|Drama|Romance|Book|Kevin Costner|Robin Wright|Paul Newman|John Savage|Illeana Douglas|Robbie Coltrane', 'filename': 'message-in-a-bottle_trailer', 'mp4': 'https://vod-progressive.akamaized.net/exp=1614569542~acl=%2A%2F676555255.mp4%2A~hmac=f3deaf0db3dfa4423f7b7a4b0c6aa7d46d6d2d4d15f30b9a22bf9442096a0685/vimeo-prod-skyfire-std-us/01/65/8/200325213/676555255.mp4?filename=Message+in+a+Bottle+-+Trailer+%28114745%29.mp4', 'i': 110}\n",
      "111 {'imdb_id': 'tt0864835', 'film_title': 'Mr. Peabody & Sherman', 'year': 2014, 'tradd_url': '/mr-peabody-sherman', 'link': '/mr-peabody-sherman/feature-trailer', 'tags': 'Dreamworks Animation|20th Century Fox|CG Animation|Adventure|Family|Comedy|Ty Burrell|Max Charles|Ariel Winter|Allison Janney|Patrick Warburton|Stephen Colbert', 'filename': 'mr-peabody-sherman_feature-trailer', 'mp4': 'https://vod-progressive.akamaized.net/exp=1614569552~acl=%2A%2F674329195.mp4%2A~hmac=3439df9703f7e692e046fb05be3efe735127dd2c01ce63994b64f2c02c69a5a4/vimeo-prod-skyfire-std-us/01/4964/7/199820860/674329195.mp4?filename=Mr.+Peabody+%26+Sherman+-+Feature+Trailer+%2885473%29.mp4', 'i': 111}\n",
      "112 {'imdb_id': 'tt0864835', 'film_title': 'Mr. Peabody & Sherman', 'year': 2014, 'tradd_url': '/mr-peabody-sherman', 'link': '/mr-peabody-sherman/trailer', 'tags': 'Dreamworks Animation|20th Century Fox|CG Animation|Adventure|Family|Comedy|Ty Burrell|Max Charles|Ariel Winter|Allison Janney|Stephen Colbert|Leslie Mann|Stanley Tucci|Patrick Warburton|Lake Bell|Zach Callison|Dennis Haysbert', 'filename': 'mr-peabody-sherman_trailer', 'mp4': 'https://vod-progressive.akamaized.net/exp=1614569579~acl=%2A%2F674148589.mp4%2A~hmac=c13a697ef1e4e43e789ce4496e5e9af8f339a8e1c362e5a02740a7c10ddd12d0/vimeo-prod-skyfire-std-us/01/4955/7/199779842/674148589.mp4?filename=Mr.+Peabody+%26+Sherman+-+Trailer+%2882455%29.mp4', 'i': 112}\n",
      "113 {'imdb_id': 'tt0408306', 'film_title': 'Munich', 'year': 2006, 'tradd_url': '/munich', 'link': '/munich/trailer', 'tags': 'Universal Pictures|Historical|Drama|Thriller|Eric Bana|Daniel Craig|Geoffrey Rush|Lynn Cohen|Ayelet Zurer|CiarÃ¡n Hinds|Mathieu Kassovitz|Hanns Zischler', 'filename': 'munich_trailer', 'mp4': 'https://vod-progressive.akamaized.net/exp=1614569606~acl=%2A%2F668100990.mp4%2A~hmac=5a6b74e11910218c9c21c95d014ca72b2a02a80422733166240d5c64f1fc9c9c/vimeo-prod-skyfire-std-us/01/4679/7/198397847/668100990.mp4?filename=Munich+-+Trailer+%281005%29.mp4', 'i': 113}\n",
      "114 {'imdb_id': 'tt2369135', 'film_title': 'Need for Speed', 'year': 2014, 'tradd_url': '/need-for-speed', 'link': '/need-for-speed/feature-trailer', 'tags': 'DreamWorks Pictures|Action|Aaron Paul|Imogen Poots|Dominic Cooper|Ramon Rodriguez|Rami Malek|Harrison Gilbertson|Kid Cudi|Michael Keaton|Dakota Johnson', 'filename': 'need-for-speed_feature-trailer', 'mp4': 'https://vod-progressive.akamaized.net/exp=1614569616~acl=%2A%2F674190438.mp4%2A~hmac=7c96efd05ae116cb45b32666589e6fdd9569a58062cd28f48f18623d7a6babb9/vimeo-prod-skyfire-std-us/01/4957/7/199789607/674190438.mp4?filename=Need+for+Speed+-+Feature+Trailer+%2883428%29.mp4', 'i': 114}\n",
      "115 {'imdb_id': 'tt1598822', 'film_title': \"New Year's Eve\", 'year': 2011, 'tradd_url': '/new-years-eve', 'link': '/new-years-eve/feature-trailer', 'tags': 'Katherine Heigl|Ashton Kutcher|Lea Michele|Josh Duhamel|Romance|Comedy|Warner Bros. Pictures|New Line Cinema|Zac Efron|Jessica Biel|Hilary Swank|Sarah Jessica Parker|Jon Bon Jovi|Robert De Niro|Abigail Breslin|Halle Berry|Ludacris|Hector Elizondo', 'filename': 'new-years-eve_feature-trailer', 'mp4': 'https://vod-progressive.akamaized.net/exp=1614569649~acl=%2A%2F672183228.mp4%2A~hmac=ba5d022d6bfb4d4542939685e4280160741a15901cfeb7de24458386ed9b2484/vimeo-prod-skyfire-std-us/01/4865/7/199328791/672183228.mp4?filename=New+Year%27s+Eve+-+Feature+Trailer+%2846686%29.mp4', 'i': 115}\n",
      "116 {'imdb_id': 'tt1078912', 'film_title': 'Night at the Museum: Battle of the Smithsonian', 'year': 2009, 'tradd_url': '/night-at-the-museum-2', 'link': '/night-at-the-museum-2/teaser-trailer', 'tags': '20th Century Fox|Franchise/Epic/Trilogy|Comedy|Family|Fantasy|Teaser|Ben Stiller|Jonah Hill|Amy Adams|Hank Azaria|Robin Williams|Owen Wilson|Bill Hader|Clint Howard', 'filename': 'night-at-the-museum-2_teaser-trailer', 'mp4': 'https://vod-progressive.akamaized.net/exp=1614569674~acl=%2A%2F668365716.mp4%2A~hmac=8771bfe6396ec1d9f5457ea395b720af861709c7df847fbba534909f708e91d3/vimeo-prod-skyfire-std-us/01/4691/7/198459166/668365716.mp4?filename=Night+at+the+Museum%3A+Battle+of+the+Smithsonian+-+Teaser+Trailer+%287935%29.mp4', 'i': 116}\n",
      "117 {'imdb_id': 'tt1623288', 'film_title': 'ParaNorman', 'year': 2012, 'tradd_url': '/paranorman', 'link': '/paranorman/teaser-trailer', 'tags': 'Focus Features|CG Animation|Comedy|Thriller|Teaser|Stop Motion Animation', 'filename': 'paranorman_teaser-trailer', 'mp4': 'https://vod-progressive.akamaized.net/exp=1614569695~acl=%2A%2F672324668.mp4%2A~hmac=92d8585d41fee6ea59245353be04ef06e6e7c56d9881eff89400585c3ab53a3b/vimeo-prod-skyfire-std-us/01/4871/7/199359480/672324668.mp4?filename=ParaNorman+-+Teaser+Trailer+%2848157%29.mp4', 'i': 117}\n",
      "118 {'imdb_id': 'tt1047540', 'film_title': 'Parental Guidance', 'year': 2012, 'tradd_url': '/parental-guidance', 'link': '/parental-guidance/trailer', 'tags': '20th Century Fox|Family|Comedy|Billy Crystal|Bette Midler|Marisa Tomei|Bailee Madison', 'filename': 'parental-guidance_trailer', 'mp4': 'https://vod-progressive.akamaized.net/exp=1614569714~acl=%2A%2F672957112.mp4%2A~hmac=9f9a7f74d74c5e046858d28f39877fe7a169c543b4560e4a3ca3c9174c6006da/vimeo-prod-skyfire-std-us/01/4901/7/199505643/672957112.mp4?filename=Parental+Guidance+-+Trailer+%2861969%29.mp4', 'i': 118}\n",
      "119 {'imdb_id': 'tt1114740', 'film_title': 'Paul Blart: Mall Cop', 'year': 2009, 'tradd_url': '/mall-cop', 'link': '/mall-cop/trailer', 'tags': \"Columbia Pictures|Comedy|Kevin James|Keir O'Donnell|Jayma Mays|Shirley Knight|Raini Rodriguez|Stephen Rannazzisi|Adam Ferrara\", 'filename': 'mall-cop_trailer', 'mp4': 'https://vod-progressive.akamaized.net/exp=1614569748~acl=%2A%2F668335889.mp4%2A~hmac=59d279e752a99da75a5a4d8cef64817552512b2d50a4b8aee39497e0b3870be5/vimeo-prod-skyfire-std-us/01/4690/7/198451570/668335889.mp4?filename=Paul+Blart%3A+Mall+Cop+-+Trailer+%286719%29.mp4', 'i': 119}\n",
      "120 {'imdb_id': 'tt3450650', 'film_title': 'Paul Blart: Mall Cop 2', 'year': 2015, 'tradd_url': '/paul-blart-mall-cop-2', 'link': '/paul-blart-mall-cop-2/trailer', 'tags': 'Sony Pictures|Comedy|Franchise/Epic/Trilogy|Kevin James|Molly Shannon|David Henrie|Raini Rodriguez|Eduardo VerÃ¡stegui|Nicholas Turturro|Gary Valentine|Neal McDonough|Shirley Knight', 'filename': 'paul-blart-mall-cop-2_trailer', 'mp4': 'https://vod-progressive.akamaized.net/exp=1614569777~acl=%2A%2F675242250.mp4%2A~hmac=21ddc384b6c066259ce04a477209ac1d24ff9b4a477faf905e0157e8877a3385/vimeo-prod-skyfire-std-us/01/5/8/200028156/675242250.mp4?filename=Paul+Blart%3A+Mall+Cop+2+-+Trailer+%2896893%29.mp4', 'i': 120}\n",
      "121 {'imdb_id': 'tt0910936', 'film_title': 'Pineapple Express', 'year': 2008, 'tradd_url': '/pineapple-express', 'link': '/pineapple-express/trailer', 'tags': 'Columbia Pictures|Comedy|Seth Rogen|James Franco|Gary Cole|Rosie Perez|Danny R. McBride|Amber Heard|James Remar', 'filename': 'pineapple-express_trailer', 'mp4': 'https://vod-progressive.akamaized.net/exp=1614569817~acl=%2A%2F668262552.mp4%2A~hmac=4dfcdb463d53c83dd297ecb08fc644a95a02ac34f632da7b010f8fa209c3c165/vimeo-prod-skyfire-std-us/01/4686/7/198433438/668262552.mp4?filename=Pineapple+Express+-+Trailer+%284027%29.mp4', 'i': 121}\n",
      "122 {'imdb_id': 'tt0325980', 'film_title': 'Pirates of the Caribbean: The Curse of the Black Pearl', 'year': 2003, 'tradd_url': '/pirates-curse-black-pearl', 'link': '/pirates-curse-black-pearl/trailer', 'tags': 'Walt Disney Pictures|Action|Adventure|Fantasy|Franchise/Epic/Trilogy|Johnny Depp|Geoffrey Rush|Orlando Bloom|Keira Knightley|Jack Davenport', 'filename': 'pirates-curse-black-pearl_trailer', 'mp4': 'https://vod-progressive.akamaized.net/exp=1614569833~acl=%2A%2F668188241.mp4%2A~hmac=7cf5037de4ddd6c6d398ad111a51257038b2f3fe4c0148b22e0f703934c848c1/vimeo-prod-skyfire-std-us/01/4683/7/198416603/668188241.mp4?filename=Pirates+of+the+Caribbean%3A+The+Curse+of+the+Black+Pearl+-+Trailer+%282261%29.mp4', 'i': 122}\n",
      "123 {'imdb_id': 'tt2980706', 'film_title': 'Planes: Fire & Rescue', 'year': 2014, 'tradd_url': '/planes-fire-rescue', 'link': '/planes-fire-rescue/trailer', 'tags': 'Walt Disney Pictures|CG Animation|Adventure|Comedy|Family|Dane Cook|Julie Bowen|Ed Harris|Regina King|Jerry Stiller|Fred Willard', 'filename': 'planes-fire-rescue_trailer', 'mp4': 'https://vod-progressive.akamaized.net/exp=1614569853~acl=%2A%2F674690720.mp4%2A~hmac=5effe8da27cb0c6db517557df81cf85a40afd23f538ceee47d1744e5b29fc669/vimeo-prod-skyfire-std-us/01/4980/7/199900530/674690720.mp4?filename=Planes%3A+Fire+%26+Rescue+-+Trailer+%2889055%29.mp4', 'i': 123}\n",
      "124 {'imdb_id': 'tt1142433', 'film_title': 'Post Grad', 'year': 2009, 'tradd_url': '/post-grad', 'link': '/post-grad/trailer', 'tags': '20th Century Fox|Comedy|Alexis Bledel|Zach Gilford|Rodrigo Santoro|Jane Lynch|Fred Armison|Bobby Coleman|Andrew Daly|Kirk Fox|Catherine Reitman|Craig Robinson|Carol Burnett|Michael Keaton', 'filename': 'post-grad_trailer', 'mp4': 'https://vod-progressive.akamaized.net/exp=1614569895~acl=%2A%2F668449993.mp4%2A~hmac=d588701dd0e9b84f39991d056932725f01af5a5a26e690707d5ecbfa1a1e007e/vimeo-prod-skyfire-std-us/01/4696/7/198480196/668449993.mp4?filename=Post+Grad+-+Trailer+%2810533%29.mp4', 'i': 124}\n",
      "125 {'imdb_id': 'tt0473075', 'film_title': 'Prince of Persia: The Sands of Time', 'year': 2010, 'tradd_url': '/prince-of-persia-the-sands-of-time', 'link': '/prince-of-persia-the-sands-of-time/feature-trailer', 'tags': 'Walt Disney Pictures|Action|Adventure|Fantasy|Video Game|Jake Gyllenhaal|Gemma Arterton|Ben Kingsley|Alfred Molina', 'filename': 'prince-of-persia-the-sands-of-time_feature-trailer', 'mp4': 'https://vod-progressive.akamaized.net/exp=1614569930~acl=%2A%2F668729118.mp4%2A~hmac=5f4386d6db211b467e63ccc04be4d9cdb57f4481e097f0ae1dc9e05232235da4/vimeo-prod-skyfire-std-us/01/4709/7/198547994/668729118.mp4?filename=Prince+of+Persia%3A+The+Sands+of+Time+-+Feature+Trailer+%2819152%29.mp4', 'i': 125}\n",
      "126 {'imdb_id': 'tt0473075', 'film_title': 'Prince of Persia: The Sands of Time', 'year': 2010, 'tradd_url': '/prince-of-persia-the-sands-of-time', 'link': '/prince-of-persia-the-sands-of-time/trailer', 'tags': 'Walt Disney Pictures|Action|Adventure|Fantasy|Video Game|Jake Gyllenhaal|Gemma Arterton|Ben Kingsley', 'filename': 'prince-of-persia-the-sands-of-time_trailer', 'mp4': 'https://vod-progressive.akamaized.net/exp=1614569954~acl=%2A%2F668638718.mp4%2A~hmac=4a800ecd902ac8975ed43ea4e44bf3c44ebbe7bcff3e36c644b3451c52eaac94/vimeo-prod-skyfire-std-us/01/4705/7/198525113/668638718.mp4?filename=Prince+of+Persia%3A+The+Sands+of+Time+-+Trailer+%2815628%29.mp4', 'i': 126}\n",
      "127 {'imdb_id': 'tt1152836', 'film_title': 'Public Enemies', 'year': 2009, 'tradd_url': '/public-enemies', 'link': '/public-enemies/trailer', 'tags': 'Universal Pictures|Action|Thriller|Johnny Depp|Christian Bale|Marion Cotillard|Giovanni Ribisi|Billy Crudup|Stephen Dorff|Rory Cochrane|Stephen Lang|David Wenham|Stephen Graham|Channing Tatum|Jason Clarke', 'filename': 'public-enemies_trailer', 'mp4': 'https://vod-progressive.akamaized.net/exp=1614569984~acl=%2A%2F668404712.mp4%2A~hmac=0710026544774c155e625a4518a55252a55553b8c6ab247e5ea3495598be8ceb/vimeo-prod-skyfire-std-us/01/4693/7/198468833/668404712.mp4?filename=Public+Enemies+-+Trailer+%289276%29.mp4', 'i': 127}\n",
      "128 {'imdb_id': 'tt0110912', 'film_title': 'Pulp Fiction', 'year': 1994, 'tradd_url': '/pulp-fiction', 'link': '/pulp-fiction/trailer', 'tags': 'Miramax Films|Crime|Drama|John Travolta|Samuel L. Jackson|Uma Thurman|Bruce Willis|Harvey Keitel|Tim Roth|Amanda Plummer|Maria de Medeiros|Ving Rhames|Eric Stoltz|Rosanna Arquette|Christopher Walken', 'filename': 'pulp-fiction_trailer', 'mp4': 'https://vod-progressive.akamaized.net/exp=1614570022~acl=%2A%2F668495786.mp4%2A~hmac=b3e0c6d308a8bb621c4f1f71f657932d43d1af2ececb8e9a205eb97af1d3b8b5/vimeo-prod-skyfire-std-us/01/4698/7/198491112/668495786.mp4?filename=Pulp+Fiction+-+Trailer+%2811612%29.mp4', 'i': 128}\n",
      "129 {'imdb_id': 'tt1192628', 'film_title': 'Rango', 'year': 2011, 'tradd_url': '/rango', 'link': '/rango/trailer', 'tags': 'Paramount Pictures|CG Animation|Action|Adventure|Johnny Depp', 'filename': 'rango_trailer', 'mp4': 'https://vod-progressive.akamaized.net/exp=1614570035~acl=%2A%2F669098894.mp4%2A~hmac=9052e88273205f519dc7b944abf55cff9bfd68eea777b04480c671edea42f35f/vimeo-prod-skyfire-std-us/01/4727/7/198637294/669098894.mp4?filename=Rango+-+Trailer+%2823913%29.mp4', 'i': 129}\n",
      "130 {'imdb_id': 'tt1053424', 'film_title': 'Repo Men', 'year': 2010, 'tradd_url': '/repo-men', 'link': '/repo-men/trailer', 'tags': 'Universal Pictures|Jude Law|Forest Whitaker|Liev Schreiber|Alice Braga|Carice van Houten|Action|Sci Fi|Thriller', 'filename': 'repo-men_trailer', 'mp4': 'https://vod-progressive.akamaized.net/exp=1614570057~acl=%2A%2F668686079.mp4%2A~hmac=6ba98d5c39f4ae9e201895e53089364e3fac5c2d26c404945b8ae97a401ddaf8/vimeo-prod-skyfire-std-us/01/4707/7/198537022/668686079.mp4?filename=Repo+Men+-+Trailer+%2817380%29.mp4', 'i': 130}\n",
      "131 {'imdb_id': 'tt1220634', 'film_title': 'Resident Evil: Afterlife', 'year': 2010, 'tradd_url': '/resident-evil-afterlife', 'link': '/resident-evil-afterlife/trailer', 'tags': 'Sony Screen Gems|Franchise/Epic/Trilogy|Action|Horror|Milla Jovovich|Ali Larter|Kim Coates|Shawn Roberts', 'filename': 'resident-evil-afterlife_trailer', 'mp4': 'https://vod-progressive.akamaized.net/exp=1614570077~acl=%2A%2F668767627.mp4%2A~hmac=bdb4c7b49d8cf792e676b8d7429d7a64b072f053243dbb0df0aba18816ec51cb/vimeo-prod-skyfire-std-us/01/4711/7/198557537/668767627.mp4?filename=Resident+Evil%3A+Afterlife+-+Trailer+%2820408%29.mp4', 'i': 131}\n",
      "132 {'imdb_id': 'tt1408253', 'film_title': 'Ride Along', 'year': 2014, 'tradd_url': '/ride-along', 'link': '/ride-along/teaser-trailer', 'tags': 'Universal Pictures|Action|Comedy|Teaser|Ice Cube|Kevin Hart|Tika Sumpter|Bryan Callen', 'filename': 'ride-along_teaser-trailer', 'mp4': 'https://vod-progressive.akamaized.net/exp=1614570091~acl=%2A%2F673721981.mp4%2A~hmac=c7d23f228b34c23703a334bfb94641211b1371a32dcce3f6ab4b06adb15e0c52/vimeo-prod-skyfire-std-us/01/4937/7/199685154/673721981.mp4?filename=Ride+Along+-+Teaser+Trailer+%2876535%29.mp4', 'i': 132}\n",
      "133 {'imdb_id': 'tt1336608', 'film_title': 'Rock of Ages', 'year': 2012, 'tradd_url': '/rock-of-ages', 'link': '/rock-of-ages/feature-trailer', 'tags': 'Warner Bros. Pictures|Musical|Tom Cruise|Malin Akerman|Catherine Zeta-Jones|Alec Baldwin|Paul Giamatti|Russell Brand|Julianne Hough|Diego Boneta|Mary J. Blige|Musical/Broadway/Play', 'filename': 'rock-of-ages_feature-trailer', 'mp4': 'https://vod-progressive.akamaized.net/exp=1614570110~acl=%2A%2F672668412.mp4%2A~hmac=0ca855ec086745ee64064049ed3ded6b329618c8f8c0062d6e533de1bc35b77b/vimeo-prod-skyfire-std-us/01/4887/7/199437300/672668412.mp4?filename=Rock+of+Ages+-+Feature+Trailer+%2854985%29.mp4', 'i': 133}\n",
      "134 {'imdb_id': 'tt0430922', 'film_title': 'Role Models', 'year': 2008, 'tradd_url': '/role-models', 'link': '/role-models/trailer', 'tags': 'Universal Pictures|Comedy|Seann William Scott|Paul Rudd|Christopher Mintz-Plasse|Jane Lynch|Elizabeth Banks', 'filename': 'role-models_trailer', 'mp4': 'https://vod-progressive.akamaized.net/exp=1614570128~acl=%2A%2F668313581.mp4%2A~hmac=8a9b5da15556088491b8abc83e5389e8e88e85fbe1c6f55239f64a4e703dfd07/vimeo-prod-skyfire-std-us/01/4689/7/198445818/668313581.mp4?filename=Role+Models+-+Trailer+%285851%29.mp4', 'i': 134}\n",
      "135 {'imdb_id': 'tt0404390', 'film_title': 'Running Scared', 'year': 2006, 'tradd_url': '/running-scared', 'link': '/running-scared/trailer', 'tags': 'New Line Cinema|Action|Drama|Crime|Thriller|Paul Walker|Cameron Bright|Vera Farmiga|Karel Roden|Johnny Messner', 'filename': 'running-scared_trailer', 'mp4': 'https://vod-progressive.akamaized.net/exp=1614570155~acl=%2A%2F668185173.mp4%2A~hmac=5c0727aa0f3637d7f0787653f684ada2b91bbdeb067683aa1b03038ab3bf2a27/vimeo-prod-skyfire-std-us/01/4683/7/198416007/668185173.mp4?filename=Running+Scared+-+Trailer+%282212%29.mp4', 'i': 135}\n",
      "136 {'imdb_id': 'tt0988045', 'film_title': 'Sherlock Holmes', 'year': 2009, 'tradd_url': '/sherlock-holmes', 'link': '/sherlock-holmes/trailer', 'tags': 'Warner Bros. Pictures|Crime|Drama|Thriller|Book|Robert Downey, Jr.|Jude Law|Rachel McAdams|Mark Strong|Kelly Reilly', 'filename': 'sherlock-holmes_trailer', 'mp4': 'https://vod-progressive.akamaized.net/exp=1614570165~acl=%2A%2F668472577.mp4%2A~hmac=f7a7a9189d800ba8ba7d6aa843fb305a7699d15b393443e9380cdaebf5fd190e/vimeo-prod-skyfire-std-us/01/4697/7/198485638/668472577.mp4?filename=Sherlock+Holmes+-+Trailer+%2811073%29.mp4', 'i': 136}\n",
      "137 {'imdb_id': 'tt0815236', 'film_title': \"She's Out of My League\", 'year': 2010, 'tradd_url': '/shes-out-of-my-league', 'link': '/shes-out-of-my-league/trailer', 'tags': 'DreamWorks Pictures|Comedy|Romance|Jay Baruchel|Alice Eve|Mike Vogel|Krysten Ritter|Geoff Stults|Hayes MacArthur|Nate Torrence|Debra Jo Rupp', 'filename': 'shes-out-of-my-league_trailer', 'mp4': 'https://vod-progressive.akamaized.net/exp=1614570192~acl=%2A%2F668685807.mp4%2A~hmac=9eb8086c21992c4713b05c931c685fe7a754071d7f61a9de64958be651257685/vimeo-prod-skyfire-std-us/01/4707/7/198536940/668685807.mp4?filename=She%27s+Out+of+My+League+-+Trailer+%2817369%29.mp4', 'i': 137}\n",
      "138 {'imdb_id': 'tt1596346', 'film_title': 'Soul Surfer', 'year': 2011, 'tradd_url': '/soul-surfer', 'link': '/soul-surfer/feature-trailer', 'tags': 'TriStar Pictures|Action|Drama|Sport|AnnaSophia Robb|Dennis Quaid|Helen Hunt|Carrie Underwood|Lorraine Nicholson', 'filename': 'soul-surfer_feature-trailer', 'mp4': 'https://vod-progressive.akamaized.net/exp=1614570210~acl=%2A%2F671231707.mp4%2A~hmac=3f82727bc96b18578d935532ca8f092478091c731d1f3be84d04f5baa0a49af1/vimeo-prod-skyfire-std-us/01/4823/7/199115343/671231707.mp4?filename=Soul+Surfer+-+Feature+Trailer+%2833768%29.mp4', 'i': 138}\n",
      "139 {'imdb_id': 'tt0473705', 'film_title': 'State of Play', 'year': 2009, 'tradd_url': '/state-of-play', 'link': '/state-of-play/trailer', 'tags': 'Universal Pictures|Thriller|Russell Crowe|Ben Affleck|Rachel McAdams|Robin Wright Penn|Harry J. Lennix|Jeff Daniels|Maria Thayer', 'filename': 'state-of-play_trailer', 'mp4': 'https://vod-progressive.akamaized.net/exp=1614559427~acl=%2Fvimeo-prod-skyfire-std-us%2F01%2F4691%2F7%2F198459450%2F668366879.mp4~hmac=a1957e474984024580f9a1250dbfd74a2a6b85e123a4a42fd546f423d3e2ff48/vimeo-prod-skyfire-std-us/01/4691/7/198459450/668366879.mp4?filename=State+of+Play+-+Trailer+%287981%29.mp4', 'i': 139}\n",
      "140 {'imdb_id': 'tt0838283', 'film_title': 'Step Brothers', 'year': 2008, 'tradd_url': '/step-brothers', 'link': '/step-brothers/trailer', 'tags': 'Columbia Pictures|Comedy|Will Ferrell|John C. Reilly|Richard Jenkins|Mary Steenburgen', 'filename': 'step-brothers_trailer', 'mp4': 'https://vod-progressive.akamaized.net/exp=1614570250~acl=%2A%2F668257613.mp4%2A~hmac=096e94bfb9f4d75a084761a49c78885486198b213e0d60b3921ed8eccdac6070/vimeo-prod-skyfire-std-us/01/4686/7/198432312/668257613.mp4?filename=Step+Brothers+-+Trailer+%283882%29.mp4', 'i': 140}\n",
      "141 {'imdb_id': 'tt0978764', 'film_title': 'Sucker Punch', 'year': 2011, 'tradd_url': '/sucker-punch', 'link': '/sucker-punch/trailer', 'tags': 'Warner Bros. Pictures|Action|Drama|Thriller|Emily Browning|Vanessa Hudgens|Abbie Cornish|Jamie Chung|Jena Malone|Carla Gugino|Jon Hamm|Oscar Isaac|Scott Glenn', 'filename': 'sucker-punch_trailer', 'mp4': 'https://vod-progressive.akamaized.net/exp=1614570280~acl=%2A%2F670966296.mp4%2A~hmac=58517853bb16d6d9d031b8e228909e208116887e141ca84026e0218552b95e84/vimeo-prod-skyfire-std-us/01/4811/7/199056034/670966296.mp4?filename=Sucker+Punch+-+Trailer+%2829841%29.mp4', 'i': 141}\n",
      "142 {'imdb_id': 'tt0978764', 'film_title': 'Sucker Punch', 'year': 2011, 'tradd_url': '/sucker-punch', 'link': '/sucker-punch/feature-trailer', 'tags': 'Warner Bros. Pictures|Action|Drama|Thriller|Emily Browning|Vanessa Hudgens|Abbie Cornish|Jamie Chung|Jena Malone|Carla Gugino|Jon Hamm|Oscar Isaac|Scott Glenn', 'filename': 'sucker-punch_feature-trailer', 'mp4': 'https://vod-progressive.akamaized.net/exp=1614570303~acl=%2A%2F671343675.mp4%2A~hmac=2381cf487a52779c17316c42e16ccba0f0d0e75f5e860afde09c51f69219cbc1/vimeo-prod-skyfire-std-us/01/4828/7/199140687/671343675.mp4?filename=Sucker+Punch+-+Feature+Trailer+%2835359%29.mp4', 'i': 142}\n",
      "143 {'imdb_id': 'tt0810922', 'film_title': 'Take Me Home Tonight', 'year': 2011, 'tradd_url': '/take-me-home-tonight', 'link': '/take-me-home-tonight/trailer', 'tags': 'Rogue Pictures|Comedy|Topher Grace|Anna Faris|Dan Fogler|Teresa Palmer|Michael Biehn|Demetri Martin', 'filename': 'take-me-home-tonight_trailer', 'mp4': 'https://vod-progressive.akamaized.net/exp=1614570317~acl=%2A%2F671131188.mp4%2A~hmac=6cc257721ce61eac413bdc752a7d1dcb35376e7300e3678bb95f1e838bea53b4/vimeo-prod-skyfire-std-us/01/4818/7/199092061/671131188.mp4?filename=Take+Me+Home+Tonight+-+Trailer+%2832007%29.mp4', 'i': 143}\n",
      "144 {'imdb_id': 'tt1135084', 'film_title': 'Takers', 'year': 2010, 'tradd_url': '/takers', 'link': '/takers/feature-trailer', 'tags': 'Sony Screen Gems|Action|Crime|Thriller|Matt Dillon|Paul Walker|Idris Elba|Jay Hernandez|Tip Harris|Michael Ealy|Chris Brown|Hayden Christensen', 'filename': 'takers_feature-trailer', 'mp4': 'https://vod-progressive.akamaized.net/exp=1614570333~acl=%2A%2F668973616.mp4%2A~hmac=909d8f036af7fb0dd24d3980e604d9c1a61602ad3a8e551b93c9119982216382/vimeo-prod-skyfire-std-us/01/4721/7/198607519/668973616.mp4?filename=Takers+-+Feature+Trailer+%2822898%29.mp4', 'i': 144}\n",
      "145 {'imdb_id': 'tt0398286', 'film_title': 'Tangled', 'year': 2010, 'tradd_url': '/tangled', 'link': '/tangled/trailer', 'tags': 'Walt Disney Pictures|CG Animation|Adventure|Family|Musical|Mandy Moore|Zachary Levi', 'filename': 'tangled_trailer', 'mp4': 'https://vod-progressive.akamaized.net/exp=1614570366~acl=%2A%2F668993957.mp4%2A~hmac=2ad56177771b215a2e5cd45f072e76539243186bc85e9c9a5b518fac5a51f20d/vimeo-prod-skyfire-std-us/01/4722/7/198612362/668993957.mp4?filename=Tangled+-+Trailer+%2823074%29.mp4', 'i': 145}\n",
      "146 {'imdb_id': 'tt0438488', 'film_title': 'Terminator Salvation', 'year': 2009, 'tradd_url': '/terminator-salvation', 'link': '/terminator-salvation/trailer', 'tags': 'Warner Bros. Pictures|Franchise/Epic/Trilogy|Action|Adventure|Sci Fi|Thriller|Sam Worthington|Anton Yelchin|Christian Bale|Common|Bryce Dallas Howard|Moon Bloodgood', 'filename': 'terminator-salvation_trailer', 'mp4': 'https://vod-progressive.akamaized.net/exp=1614570382~acl=%2A%2F668360374.mp4%2A~hmac=921fc26d10fe5ce127d855d12ad3146c59a4bb4369a2565d43d4a71ea7f984b5/vimeo-prod-skyfire-std-us/01/4691/7/198457871/668360374.mp4?filename=Terminator+Salvation+-+Trailer+%287714%29.mp4', 'i': 146}\n",
      "147 {'imdb_id': 'tt0948470', 'film_title': 'The Amazing Spider-Man', 'year': 2012, 'tradd_url': '/spider-man-2012', 'link': '/spider-man-2012/feature-trailer', 'tags': 'Columbia Pictures|Franchise/Epic/Trilogy|Action|Adventure|Fantasy|Comicbook|Andrew Garfield|Emma Stone|Rhys Ifans|Denis Leary|Campbell Scott|Irrfan Khan|Martin Sheen|Sally Field', 'filename': 'spider-man-2012_feature-trailer', 'mp4': 'https://vod-progressive.akamaized.net/exp=1614570415~acl=%2A%2F672579730.mp4%2A~hmac=2d455f2ec9544117032f4d2f2f7f3179ea1e8c0590f19bcf740d66cff7797229/vimeo-prod-skyfire-std-us/01/4883/7/199415648/672579730.mp4?filename=The+Amazing+Spider-Man+-+Feature+Trailer+%2851966%29.mp4', 'i': 147}\n",
      "148 {'imdb_id': 'tt0112435', 'film_title': 'The Baby-Sitters Club', 'year': 1995, 'tradd_url': '/the-baby-sitters-club', 'link': '/the-baby-sitters-club/trailer', 'tags': 'Columbia Pictures|Comedy|Drama|Family|Book|Schuyler Fisk|Bre Blair|Tricia Joe|Rachael Leigh Cook|Larisa Oleynik|Stacy Linn Ramsower|Zelda Harris', 'filename': 'the-baby-sitters-club_trailer', 'mp4': 'https://vod-progressive.akamaized.net/exp=1614570433~acl=%2A%2F674458666.mp4%2A~hmac=2929b4a4f891be5c38ccbc30f9b399a568a2b956cfd80072861c7648110d0d16/vimeo-prod-skyfire-std-us/01/4969/7/199849333/674458666.mp4?filename=The+Baby-Sitters+Club+-+Trailer+%2886822%29.mp4', 'i': 148}\n",
      "149 {'imdb_id': 'tt0878804', 'film_title': 'The Blind Side', 'year': 2009, 'tradd_url': '/the-blind-side', 'link': '/the-blind-side/trailer', 'tags': 'Warner Bros. Pictures|Book|Drama|Sport|Sandra Bullock|Kathy Bates|Tim McGraw|Ray McKinnon|Lily Collins|Jae Head|Quinton Aaron', 'filename': 'the-blind-side_trailer', 'mp4': 'https://vod-progressive.akamaized.net/exp=1614570448~acl=%2A%2F668549500.mp4%2A~hmac=6acfc4a0cd3607456acbfbdfe8adb9641be0b2633a1a2c091cb18e3ea7208df5/vimeo-prod-skyfire-std-us/01/4700/7/198503736/668549500.mp4?filename=The+Blind+Side+-+Trailer+%2812939%29.mp4', 'i': 149}\n",
      "150 {'imdb_id': 'tt0103855', 'film_title': 'The Bodyguard', 'year': 1992, 'tradd_url': '/the-bodyguard', 'link': '/the-bodyguard/trailer', 'tags': 'Warner Bros. Pictures|Romance|Thriller|Drama|Musical|Kevin Costner|Whitney Houston|Gary Kemp|Bill Cobbs|Ralph Waite|Tomas Arana|Michele Lamar Richards|Mike Starr|DeVaughn Nixon', 'filename': 'the-bodyguard_trailer', 'mp4': 'https://vod-progressive.akamaized.net/exp=1614570465~acl=%2A%2F674311876.mp4%2A~hmac=5151a7b46f7393e58e4d331fc25961f4fe3423349fa9de602d814b28487dd929/vimeo-prod-skyfire-std-us/01/4963/7/199817016/674311876.mp4?filename=The+Bodyguard+-+Trailer+%2885247%29.mp4', 'i': 150}\n",
      "151 {'imdb_id': 'tt0363771', 'film_title': 'The Chronicles of Narnia: The Lion, the Witch and the Wardrobe', 'year': 2005, 'tradd_url': '/narnia-lion-witch-wardrobe', 'link': '/narnia-lion-witch-wardrobe/trailer', 'tags': 'Walt Disney Pictures|Book|Fantasy|Adventure|William Moseley|Anna Popplewell|Skandar Keynes|Georgie Henley|Tilda Swinton|James McAvoy|Liam Neeson', 'filename': 'narnia-lion-witch-wardrobe_trailer', 'mp4': 'https://vod-progressive.akamaized.net/exp=1614570478~acl=%2A%2F668079843.mp4%2A~hmac=21902f7116c8a96de43a0768529195f60baf0bb7cc39fa4c28c2c5f18dce558c/vimeo-prod-skyfire-std-us/01/4678/7/198393364/668079843.mp4?filename=The+Chronicles+of+Narnia%3A+The+Lion%2C+the+Witch+and+the+Wardrobe+-+Trailer+%28727%29.mp4', 'i': 151}\n",
      "152 {'imdb_id': 'tt0980970', 'film_title': 'The Chronicles of Narnia: The Voyage of the Dawn Treader', 'year': 2010, 'tradd_url': '/chronicles-of-narnia-voyage-of-dawn-treader', 'link': '/chronicles-of-narnia-voyage-of-dawn-treader/feature-trailer', 'tags': 'Fox Walden|Franchise/Epic/Trilogy|Adventure|Family|Fantasy|Book|Georgie Henley|Skandar Keynes|Ben Barnes|Will Poulter|Gary Sweet|Bruce Spence|Arthur Angel|Shane Rangi|Liam Neeson|Tilda Swinton|Laura Brent', 'filename': 'chronicles-of-narnia-voyage-of-dawn-treader_feature-trailer', 'mp4': 'https://vod-progressive.akamaized.net/exp=1614570489~acl=%2A%2F670994956.mp4%2A~hmac=053c948aba918251f58a9f39f1d6d0f3ae84cef1998c3feed71047c2df4beb92/vimeo-prod-skyfire-std-us/01/4812/7/199062394/670994956.mp4?filename=The+Chronicles+of+Narnia%3A+The+Voyage+of+the+Dawn+Treader+-+Feature+Trailer+%2830151%29.mp4', 'i': 152}\n",
      "153 {'imdb_id': 'tt0980970', 'film_title': 'The Chronicles of Narnia: The Voyage of the Dawn Treader', 'year': 2010, 'tradd_url': '/chronicles-of-narnia-voyage-of-dawn-treader', 'link': '/chronicles-of-narnia-voyage-of-dawn-treader/trailer', 'tags': 'Fox Walden|Franchise/Epic/Trilogy|Adventure|Family|Fantasy|Georgie Henley|Skandar Keynes|Ben Barnes|Will Poulter|Gary Sweet|Bruce Spence|Arthur Angel|Shane Rangi|Liam Neeson', 'filename': 'chronicles-of-narnia-voyage-of-dawn-treader_trailer', 'mp4': 'https://vod-progressive.akamaized.net/exp=1614570506~acl=%2A%2F669024703.mp4%2A~hmac=8b9c81be596d4c9f5813395c4e616cbedd45a79c7b1cb794d1eb216e6600b38b/vimeo-prod-skyfire-std-us/01/4723/7/198619505/669024703.mp4?filename=The+Chronicles+of+Narnia%3A+The+Voyage+of+the+Dawn+Treader+-+Trailer+%2823381%29.mp4', 'i': 153}\n"
     ]
    },
    {
     "ename": "ContentTooShortError",
     "evalue": "<urlopen error retrieval incomplete: got only 5242880 out of 24369432 bytes>",
     "output_type": "error",
     "traceback": [
      "\u001b[1;31m---------------------------------------------------------------------------\u001b[0m",
      "\u001b[1;31mContentTooShortError\u001b[0m                      Traceback (most recent call last)",
      "\u001b[1;32m<ipython-input-37-48445cbf55e1>\u001b[0m in \u001b[0;36m<module>\u001b[1;34m\u001b[0m\n\u001b[0;32m     20\u001b[0m     \u001b[0mh\u001b[0m\u001b[1;33m[\u001b[0m\u001b[1;34m'i'\u001b[0m\u001b[1;33m]\u001b[0m \u001b[1;33m=\u001b[0m \u001b[0mi\u001b[0m\u001b[1;33m\u001b[0m\u001b[1;33m\u001b[0m\u001b[0m\n\u001b[0;32m     21\u001b[0m     \u001b[0mtrailist\u001b[0m\u001b[1;33m.\u001b[0m\u001b[0mappend\u001b[0m\u001b[1;33m(\u001b[0m\u001b[0mh\u001b[0m\u001b[1;33m)\u001b[0m\u001b[1;33m\u001b[0m\u001b[1;33m\u001b[0m\u001b[0m\n\u001b[1;32m---> 22\u001b[1;33m     \u001b[0murllib\u001b[0m\u001b[1;33m.\u001b[0m\u001b[0mrequest\u001b[0m\u001b[1;33m.\u001b[0m\u001b[0murlretrieve\u001b[0m\u001b[1;33m(\u001b[0m\u001b[0mx\u001b[0m\u001b[1;33m[\u001b[0m\u001b[1;34m'src'\u001b[0m\u001b[1;33m]\u001b[0m\u001b[1;33m,\u001b[0m \u001b[0mh\u001b[0m\u001b[1;33m[\u001b[0m\u001b[1;34m'filename'\u001b[0m\u001b[1;33m]\u001b[0m \u001b[1;33m+\u001b[0m \u001b[1;34m'.mp4'\u001b[0m\u001b[1;33m)\u001b[0m\u001b[1;33m\u001b[0m\u001b[1;33m\u001b[0m\u001b[0m\n\u001b[0m\u001b[0;32m     23\u001b[0m     \u001b[0mprint\u001b[0m\u001b[1;33m(\u001b[0m\u001b[0mi\u001b[0m\u001b[1;33m,\u001b[0m\u001b[0mh\u001b[0m\u001b[1;33m)\u001b[0m\u001b[1;33m\u001b[0m\u001b[1;33m\u001b[0m\u001b[0m\n",
      "\u001b[1;32m~\\miniconda3\\envs\\scraper\\lib\\urllib\\request.py\u001b[0m in \u001b[0;36murlretrieve\u001b[1;34m(url, filename, reporthook, data)\u001b[0m\n\u001b[0;32m    286\u001b[0m         raise ContentTooShortError(\n\u001b[0;32m    287\u001b[0m             \u001b[1;34m\"retrieval incomplete: got only %i out of %i bytes\"\u001b[0m\u001b[1;33m\u001b[0m\u001b[1;33m\u001b[0m\u001b[0m\n\u001b[1;32m--> 288\u001b[1;33m             % (read, size), result)\n\u001b[0m\u001b[0;32m    289\u001b[0m \u001b[1;33m\u001b[0m\u001b[0m\n\u001b[0;32m    290\u001b[0m     \u001b[1;32mreturn\u001b[0m \u001b[0mresult\u001b[0m\u001b[1;33m\u001b[0m\u001b[1;33m\u001b[0m\u001b[0m\n",
      "\u001b[1;31mContentTooShortError\u001b[0m: <urlopen error retrieval incomplete: got only 5242880 out of 24369432 bytes>"
     ]
    }
   ],
   "source": [
    "import urllib.request\n",
    "baseurl = r\"https://www.traileraddict.com\"\n",
    "trailist = []\n",
    "\n",
    "for i, h in enumerate(tdicts):\n",
    "#     h = tdicts[0]\n",
    "#     i = 0\n",
    "    u = h['link']\n",
    "\n",
    "    driver.get(baseurl + u)\n",
    "    time.sleep(1)\n",
    "\n",
    "    page = driver.page_source   \n",
    "    #page = requests.get(baseurl + u).text\n",
    "    soup = BeautifulSoup(page, \"html.parser\")\n",
    "\n",
    "    x = soup.find('div', id=\"trailer_addict_video_frame\")\n",
    "    x = soup.find(\"video\", id=\"trailerplayer_html5\")\n",
    "    h['mp4'] = x['src']\n",
    "    h['i'] = i\n",
    "    trailist.append(h)\n",
    "    urllib.request.urlretrieve(x['src'], h['filename'] + '.mp4') \n",
    "    print(i,h)"
   ]
  },
  {
   "cell_type": "code",
   "execution_count": 38,
   "metadata": {},
   "outputs": [],
   "source": [
    "df_trailist = pd.DataFrame(trailist)\n",
    "df_trailist.to_csv(\"traileraddict_songlinks_downloaded.csv\")"
   ]
  },
  {
   "cell_type": "code",
   "execution_count": 21,
   "metadata": {},
   "outputs": [
    {
     "name": "stdout",
     "output_type": "stream",
     "text": [
      "<div class=\"video-js2 vjs-fluid vjs-default-skin\" id=\"trailerplayer\">\n",
      "</div>\n"
     ]
    }
   ],
   "source": []
  }
 ],
 "metadata": {
  "kernelspec": {
   "display_name": "scraper",
   "language": "python",
   "name": "scraper"
  },
  "language_info": {
   "codemirror_mode": {
    "name": "ipython",
    "version": 3
   },
   "file_extension": ".py",
   "mimetype": "text/x-python",
   "name": "python",
   "nbconvert_exporter": "python",
   "pygments_lexer": "ipython3",
   "version": "3.7.1"
  }
 },
 "nbformat": 4,
 "nbformat_minor": 4
}
