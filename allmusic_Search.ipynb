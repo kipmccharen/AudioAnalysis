{
 "cells": [
  {
   "cell_type": "code",
   "execution_count": 1,
   "metadata": {},
   "outputs": [
    {
     "data": {
      "text/plain": [
       "True"
      ]
     },
     "execution_count": 1,
     "metadata": {},
     "output_type": "execute_result"
    }
   ],
   "source": [
    "import urllib\n",
    "from dotenv import load_dotenv\n",
    "import pandas as pd\n",
    "from pprint import pprint\n",
    "from bs4 import BeautifulSoup\n",
    "import requests\n",
    "import os \n",
    "import base64\n",
    "import json\n",
    "\n",
    "load_dotenv()"
   ]
  },
  {
   "cell_type": "code",
   "execution_count": 2,
   "metadata": {},
   "outputs": [],
   "source": [
    "#Selenium items\n",
    "from selenium import webdriver #webdriver to control activities\n",
    "from selenium.webdriver.common.by import By #types of navigation\n",
    "from selenium.webdriver.support.ui import WebDriverWait #waiting\n",
    "import time\n",
    "\n",
    "def start_driver(runheadless = False):\n",
    "    \"\"\"Initialize a Chrome webdriver with which for Selenium to act. \"\"\"\n",
    "    #set Chromedriver options to work smoothly\n",
    "    options = webdriver.ChromeOptions()\n",
    "    options.add_argument(\"start-maximized\") # open Browser in maximized mode\n",
    "    options.add_argument(\"disable-infobars\") # disabling infobars\n",
    "    options.add_argument(\"--disable-extensions\") # disabling extensions\n",
    "    options.add_argument(\"--disable-gpu\") # applicable to windows os only\n",
    "    options.add_argument(\"--disable-dev-shm-usage\") # overcome limited resource problems\n",
    "    options.add_argument(\"--no-sandbox\") # Bypass OS security model  \n",
    "    if runheadless:\n",
    "        options.add_argument(\"--headless\")  \n",
    "    options.add_argument(\"--remote-debugging-port=9222\")\n",
    "    options.add_argument('--ignore-certificate-errors')\n",
    "    options.add_argument(\"--test-type\")\n",
    "    driver = webdriver.Chrome(options=options,\n",
    "            executable_path=r\"D:\\chromedriver.exe\")\n",
    "    driver.implicitly_wait(10) # seconds\n",
    "    \n",
    "    driver.get(\"https://www.google.com/\") #open the given URL\n",
    "    time.sleep(1) #wait for everything to load\n",
    "\n",
    "    return driver\n",
    "\n",
    "driver = start_driver()"
   ]
  },
  {
   "cell_type": "code",
   "execution_count": 3,
   "metadata": {},
   "outputs": [
    {
     "data": {
      "text/plain": [
       "[['9', 'tt0472033', 2009],\n",
       " ['21', 'tt0478087', 2008],\n",
       " ['42', 'tt0453562', 2013],\n",
       " ['54', 'tt0120577', 1998],\n",
       " ['300', 'tt0416449', 2007]]"
      ]
     },
     "execution_count": 3,
     "metadata": {},
     "output_type": "execute_result"
    }
   ],
   "source": [
    "movie_list = pd.read_csv(\"1990_2020_movie_list1227.csv\", encoding='latin1')\n",
    "ogcols = [\"title\", \"movieid\", \"year\"]\n",
    "ml_ls = movie_list[ogcols].values.tolist()\n",
    "ml_ls[:5]"
   ]
  },
  {
   "cell_type": "code",
   "execution_count": 22,
   "metadata": {},
   "outputs": [],
   "source": [
    "url_base = r\"http://www.allmusic.com/search/albums/\"\n",
    "#ml = ml_ls[80]\n",
    "store_dicts = []\n",
    "\n",
    "for ml in ml_ls:\n",
    "    search_me = \"+\".join([ml[0], \"soundtrack\", \"(\", str(ml[-1]), \")\"])\n",
    "    q = url_base + urllib.parse.quote(search_me)\n",
    "    driver.get(q)\n",
    "    time.sleep(1)\n",
    "    content = driver.page_source\n",
    "    soup = BeautifulSoup(content, \"html\")\n",
    "    items = soup.find(\"div\", id=\"cmn_wrap\") #all(\"li\", _class=\"album\")\n",
    "    items = items.find_all(\"li\")\n",
    "    its = [x for x in items if x.find(\"h4\")]\n",
    "    for i in its[:3]:\n",
    "        dd = dict(zip(ogcols, ml))\n",
    "        t = i.find_all(\"div\")[1]\n",
    "        ss = list(t.stripped_strings)\n",
    "        dd['am_id'] = t.a['data-tooltip']\n",
    "        dd['am_href'] = t.a['href']\n",
    "        dd['am_title'] = ss[1]\n",
    "        dd['am_year'] = ss[-2]\n",
    "        dd['am_genres'] = ss[-1]\n",
    "        if 'am_composer' in dd.keys():\n",
    "            dd['am_composer'] = ss[2]\n",
    "        store_dicts += [dd]"
   ]
  },
  {
   "cell_type": "code",
   "execution_count": 23,
   "metadata": {},
   "outputs": [],
   "source": [
    "allmusicresults = pd.DataFrame(store_dicts)\n",
    "allmusicresults.to_csv(\"allmusic_search_results.csv\")"
   ]
  },
  {
   "cell_type": "code",
   "execution_count": 14,
   "metadata": {},
   "outputs": [],
   "source": [
    "\n"
   ]
  },
  {
   "cell_type": "code",
   "execution_count": 24,
   "metadata": {},
   "outputs": [],
   "source": [
    "driver.quit()"
   ]
  },
  {
   "cell_type": "code",
   "execution_count": 48,
   "metadata": {},
   "outputs": [
    {
     "data": {
      "text/plain": [
       "[{'title': 'Josie and the Pussycats',\n",
       "  'movieid': 'tt0236348',\n",
       "  'year': 2001,\n",
       "  'perf_match': 'mw0000000996',\n",
       "  'am_href': 'https://www.allmusic.com/album/josie-and-the-pussycats-original-soundtrack-mw0000000996',\n",
       "  'am_title': 'Josie and the Pussycats [Original Soundtrack]',\n",
       "  'am_genres': 'Stage & Screen, Pop/Rock'},\n",
       " {'title': 'Along Came a Spider',\n",
       "  'movieid': 'tt0164334',\n",
       "  'year': 2001,\n",
       "  'perf_match': 'mw0000001648',\n",
       "  'am_href': 'https://www.allmusic.com/album/along-came-a-spider-mw0000001648',\n",
       "  'am_title': 'Along Came a Spider',\n",
       "  'am_genres': 'Stage & Screen'},\n",
       " {'title': \"One Night at McCool's\",\n",
       "  'movieid': 'tt0203755',\n",
       "  'year': 2001,\n",
       "  'perf_match': 'mw0000001717',\n",
       "  'am_href': 'https://www.allmusic.com/album/one-night-at-mccools-mw0000001717',\n",
       "  'am_title': \"One Night at McCool's\",\n",
       "  'am_genres': 'Stage & Screen, Pop/Rock'}]"
      ]
     },
     "execution_count": 48,
     "metadata": {},
     "output_type": "execute_result"
    }
   ],
   "source": [
    "albumlist = pd.read_csv(r\"allmusic_search_validated.csv\")\n",
    "hrefs = albumlist.to_dict('records')\n",
    "hrefs[:3]"
   ]
  },
  {
   "cell_type": "code",
   "execution_count": 69,
   "metadata": {},
   "outputs": [
    {
     "data": {
      "text/plain": [
       "{'title': 'Josie and the Pussycats',\n",
       " 'movieid': 'tt0236348',\n",
       " 'year': 2001,\n",
       " 'perf_match': 'mw0000000996',\n",
       " 'am_href': 'https://www.allmusic.com/album/josie-and-the-pussycats-original-soundtrack-mw0000000996',\n",
       " 'am_title': 'Josie and the Pussycats [Original Soundtrack]',\n",
       " 'am_genres': 'Stage & Screen, Pop/Rock',\n",
       " 'Stream or buy on:': [],\n",
       " 'Release Date': ['March 27, 2001'],\n",
       " 'Duration': ['37:35'],\n",
       " 'Genre': ['Stage & Screen', 'Pop/Rock'],\n",
       " 'Stage & Screen': ['Pop/Rock'],\n",
       " 'Styles': ['Soundtracks',\n",
       "  'Alternative Pop/Rock',\n",
       "  'Alternative/Indie Rock',\n",
       "  'Pop Punk',\n",
       "  'Teen Pop'],\n",
       " 'Soundtracks': ['Alternative Pop/Rock',\n",
       "  'Alternative/Indie Rock',\n",
       "  'Pop Punk',\n",
       "  'Teen Pop'],\n",
       " 'Recording Location': [\"Brandon's Way, Hollywood, CA\",\n",
       "  'Q Division, Somerville, MA',\n",
       "  'Right Track Studios, New York, NY',\n",
       "  'Tracken Place, Los Angeles, CA']}"
      ]
     },
     "execution_count": 69,
     "metadata": {},
     "output_type": "execute_result"
    }
   ],
   "source": [
    "#for h in hrefs \n",
    "\n",
    "#driver = start_driver()\n",
    "\n",
    "h = hrefs[0]\n",
    "print(h)\n",
    "\n",
    "#driver.get(h)\n",
    "#time.sleep(1)\n",
    "\n",
    "#content = driver.page_source   \n",
    "\n",
    "page = requests.get(h['am_href']).text\n",
    "soup = BeautifulSoup(content, \"html.parser\")\n",
    "side = soup.find(\"section\", attrs={'class':'basic-info'})\n",
    "\n",
    "for s in side.find_all(\"div\"):\n",
    "    ss = s.stripped_strings\n",
    "    if ss:\n",
    "        h[ss[0]] = ss[1]"
   ]
  },
  {
   "cell_type": "code",
   "execution_count": 45,
   "metadata": {},
   "outputs": [
    {
     "data": {
      "text/plain": [
       "<section class=\"basic-info\">\n",
       "<div class=\"streams num-2\">\n",
       "<h4>Stream or buy on:</h4>\n",
       "<ul class=\"streaming-buttons clearfix\">\n",
       "<li>\n",
       "<a class=\"discogs\" data-target=\"discogs\" href=\"https://www.discogs.com/sell/release/8123946\" title=\"Find on Discogs\"></a>\n",
       "</li>\n",
       "<li class=\"amazontooltip\">\n",
       "<a class=\"amazon\" data-target=\"amazon\" href='https://www.amazon.com/s/?field-keywords=music: \"Josie%20and%20the%20Pussycats%20%5BOriginal%20Soundtrack%5D\" by \"Original%20Soundtrack\"&amp;tag=allmusicdotcom-20' title=\"Search on Amazon\"></a>\n",
       "</li>\n",
       "</ul>\n",
       "</div>\n",
       "<div class=\"release-date\">\n",
       "<h4>Release Date</h4>\n",
       "<span>March 27, 2001</span>\n",
       "</div>\n",
       "<div class=\"duration\">\n",
       "<h4>Duration</h4>\n",
       "<span>37:35</span>\n",
       "</div>\n",
       "<div class=\"genre\">\n",
       "<h4>Genre</h4>\n",
       "<div>\n",
       "<a href=\"https://www.allmusic.com/genre/stage-screen-ma0000004432\">Stage &amp; Screen</a> <a href=\"https://www.allmusic.com/genre/pop-rock-ma0000002613\">Pop/Rock</a> </div>\n",
       "</div>\n",
       "<div class=\"styles\">\n",
       "<h4>Styles</h4>\n",
       "<div>\n",
       "<a href=\"https://www.allmusic.com/style/soundtracks-ma0000002867\">Soundtracks</a> <a href=\"https://www.allmusic.com/style/alternative-pop-rock-ma0000002422\">Alternative Pop/Rock</a> <a href=\"https://www.allmusic.com/style/alternative-indie-rock-ma0000012230\">Alternative/Indie Rock</a> <a href=\"https://www.allmusic.com/style/pop-punk-ma0000004449\">Pop Punk</a> <a href=\"https://www.allmusic.com/style/teen-pop-ma0000002895\">Teen Pop</a> </div>\n",
       "</div>\n",
       "<div class=\"recording-location\">\n",
       "<h4>Recording Location</h4>\n",
       "<ul>\n",
       "<li>\n",
       "                        Brandon's Way, Hollywood, CA                    </li>\n",
       "<li>\n",
       "                        Q Division, Somerville, MA                    </li>\n",
       "<li>\n",
       "                        Right Track Studios, New York, NY                    </li>\n",
       "<li>\n",
       "                        Tracken Place, Los Angeles, CA                    </li>\n",
       "</ul>\n",
       "</div>\n",
       "<a class=\"submit-corrections\" href=\"https://www.allmusic.com/album/josie-and-the-pussycats-original-soundtrack-mw0000000996/corrections\">Submit Corrections</a>\n",
       "</section>"
      ]
     },
     "execution_count": 45,
     "metadata": {},
     "output_type": "execute_result"
    }
   ],
   "source": []
  },
  {
   "cell_type": "code",
   "execution_count": 51,
   "metadata": {},
   "outputs": [],
   "source": [
    "driver.quit()"
   ]
  },
  {
   "cell_type": "code",
   "execution_count": null,
   "metadata": {},
   "outputs": [],
   "source": []
  }
 ],
 "metadata": {
  "kernelspec": {
   "display_name": "scraper",
   "language": "python",
   "name": "scraper"
  },
  "language_info": {
   "codemirror_mode": {
    "name": "ipython",
    "version": 3
   },
   "file_extension": ".py",
   "mimetype": "text/x-python",
   "name": "python",
   "nbconvert_exporter": "python",
   "pygments_lexer": "ipython3",
   "version": "3.7.1"
  }
 },
 "nbformat": 4,
 "nbformat_minor": 4
}
