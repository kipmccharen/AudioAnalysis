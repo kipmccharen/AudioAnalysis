{
 "cells": [
  {
   "cell_type": "code",
   "execution_count": null,
   "metadata": {},
   "outputs": [],
   "source": [
    "def minOperations(arr, threshold, d):\n",
    "    # Write your code here\n",
    "    a_sum = sum(arr)\n",
    "    a_cnt = len(arr)\n",
    "    a_sort = arr.sort()\n",
    "    a_min = a_sort[0]\n",
    "    a_max = a_sort[-1]\n",
    "    a_avg = a_sum / a_cnt\n",
    "    assess_list = []\n",
    "    \n",
    "    for a in a_sort:\n",
    "        testa = a.copy()\n",
    "        trow = []\n",
    "        countme = 0\n",
    "        while testa > 0:\n",
    "            trow.append([testa,countme])\n",
    "            testa = testa // d\n",
    "            countme += 1\n",
    "        assess_list.append(trow)\n",
    "    \n",
    "    #each item is a value and how many changes to get there \n",
    "\n",
    "    "
   ]
  }
 ],
 "metadata": {
  "kernelspec": {
   "display_name": "Python 3",
   "language": "python",
   "name": "python3"
  },
  "language_info": {
   "codemirror_mode": {
    "name": "ipython",
    "version": 3
   },
   "file_extension": ".py",
   "mimetype": "text/x-python",
   "name": "python",
   "nbconvert_exporter": "python",
   "pygments_lexer": "ipython3",
   "version": "3.8.5"
  }
 },
 "nbformat": 4,
 "nbformat_minor": 4
}
